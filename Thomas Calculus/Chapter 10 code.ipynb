{
 "metadata": {
  "language_info": {
   "codemirror_mode": {
    "name": "ipython",
    "version": 3
   },
   "file_extension": ".py",
   "mimetype": "text/x-python",
   "name": "python",
   "nbconvert_exporter": "python",
   "pygments_lexer": "ipython3",
   "version": "3.8.1-final"
  },
  "orig_nbformat": 2,
  "kernelspec": {
   "name": "python38164bit34ef27fa136f4cd3bd679e2aa84ca1a2",
   "display_name": "Python 3.8.1 64-bit",
   "language": "python"
  }
 },
 "nbformat": 4,
 "nbformat_minor": 2,
 "cells": [
  {
   "cell_type": "code",
   "execution_count": 4,
   "metadata": {},
   "outputs": [],
   "source": [
    "import numpy as np\n",
    "from scipy.integrate import odeint\n",
    "import matplotlib.pyplot as plt\n",
    "class FunctionPlotter():\n",
    "    def __init__(self,function,\n",
    "    domain=0,CustomDomain=None,\n",
    "    ticks=[np.linspace(-5,5,5),np.linspace(-5,5,5)],\n",
    "    lim=[(-5,5),(-5,5)]):\n",
    "        '''\n",
    "        params: \n",
    "        function: the function to be plotted\n",
    "        domain: the range of x \n",
    "                default: 0: [-5,5]\n",
    "                1:[0,10]\n",
    "                2:[-10,0]\n",
    "                or other array like value of x\n",
    "        '''\n",
    "        self.function = function\n",
    "        self.xticks, self.yticks = ticks[0],ticks[1]\n",
    "        self.xlim,self.ylim = lim[0],lim[1]\n",
    "        if domain == 0 :\n",
    "            self.x = np.linspace(-5,5,101)\n",
    "        elif domain == 1:\n",
    "            self.x = np.linspace(0,10,101)\n",
    "        elif domain == 2:\n",
    "            self.x = np.linspace(-10,0,101)\n",
    "        elif domain == 3:\n",
    "            self.x = CustomDomain\n",
    "    def canvas(self):\n",
    "        self.fig,self.ax = plt.subplots()\n",
    "        self.ax.spines[\"left\"].set_position((\"axes\", 0.5))\n",
    "        self.ax.spines[\"bottom\"].set_position((\"axes\", 0.5))\n",
    "        self.ax.spines[\"top\"].set_visible(False)\n",
    "        self.ax.spines[\"right\"].set_visible(False)\n",
    "        #self.ax.plot(1, 0, \">k\", transform=self.ax.get_yaxis_transform(), clip_on=False)\n",
    "        #self.ax.plot(0, 1, \"^k\", transform=self.ax.get_xaxis_transform(), clip_on=False)\n",
    "        self.ax.set_xlabel('x',x=1)\n",
    "        self.ax.set_ylabel('y',y=1)\n",
    "        self.ax.set_xticks(self.xticks)\n",
    "        self.ax.set_yticks(self.yticks)\n",
    "        self.ax.set_xlim(self.xlim)\n",
    "        self.ax.set_ylim(self.ylim)\n",
    "    def plot(self):\n",
    "        self.y = self.function(self.x)\n",
    "        self.canvas()\n",
    "        self.ax.plot(self.x,self.y)\n",
    "    def PlotMultiFunction(self):\n",
    "        self.y = [function(self.x) for function in self.function]\n",
    "        self.canvas()\n",
    "        for i in range(len(self.function)):\n",
    "            self.ax.plot(self.x,self.y[i],label='f({})'.format(i+1))\n",
    "            self.ax.legend()\n",
    "    def PlotContour(self):\n",
    "        self.y = self.x\n",
    "        X,Y = np.meshgrid(self.x,self.y)\n",
    "        self.canvas()\n",
    "        self.ax.contour(X,Y,f(X,Y),0)\n",
    "    def PlotSequence(self):\n",
    "        self.y = self.function(self.x)\n",
    "        self.canvas()\n",
    "        self.ax.scatter(self.x,self.y)"
   ]
  },
  {
   "source": [
    "# Thomas Calculus\n",
    "## Chapter 10 Infinite Sequences and Series\n",
    "### 10.1 Sequences\n",
    "#### Finding Terms of a Sequence\n",
    "#### Finding a Sequence’s Formula\n",
    "#### Convergence and Divergence\n",
    "#### Recursively Defined Sequences\n",
    "#### Theory and Examples\n",
    "#### COMPUTER EXPLORATIONS\n",
    "Use a CAS to perform the following steps for the sequences in Exercises 147–158.  \n",
    "a. Calculate and then plot the first 25 terms of the sequence. Does the sequence appear to be bounded from above or below? Does it appear to converge or diverge? If it does converge, what is the limit $L$?  \n",
    "b. If the sequence converges, find an integer $N$ such that $|a_n - L| \\le 0.01$ for $n \\ge N$. How far in the sequence do you have to get for the terms to lie within $0.0001$ of $L$?\n",
    "\n",
    "147. $a_n = \\sqrt[n]{n}$"
   ],
   "cell_type": "markdown",
   "metadata": {}
  },
  {
   "cell_type": "code",
   "execution_count": 7,
   "metadata": {},
   "outputs": [
    {
     "output_type": "display_data",
     "data": {
      "text/plain": "<Figure size 432x288 with 1 Axes>",
      "image/svg+xml": "<?xml version=\"1.0\" encoding=\"utf-8\" standalone=\"no\"?>\r\n<!DOCTYPE svg PUBLIC \"-//W3C//DTD SVG 1.1//EN\"\r\n  \"http://www.w3.org/Graphics/SVG/1.1/DTD/svg11.dtd\">\r\n<!-- Created with matplotlib (https://matplotlib.org/) -->\r\n<svg height=\"241.518125pt\" version=\"1.1\" viewBox=\"0 0 375.655469 241.518125\" width=\"375.655469pt\" xmlns=\"http://www.w3.org/2000/svg\" xmlns:xlink=\"http://www.w3.org/1999/xlink\">\r\n <defs>\r\n  <style type=\"text/css\">\r\n*{stroke-linecap:butt;stroke-linejoin:round;}\r\n  </style>\r\n </defs>\r\n <g id=\"figure_1\">\r\n  <g id=\"patch_1\">\r\n   <path d=\"M 0 241.518125 \r\nL 375.655469 241.518125 \r\nL 375.655469 0 \r\nL 0 0 \r\nz\r\n\" style=\"fill:none;\"/>\r\n  </g>\r\n  <g id=\"axes_1\">\r\n   <g id=\"patch_2\">\r\n    <path d=\"M 22.522656 228.439219 \r\nL 357.322656 228.439219 \r\nL 357.322656 10.999219 \r\nL 22.522656 10.999219 \r\nz\r\n\" style=\"fill:#ffffff;\"/>\r\n   </g>\r\n   <g id=\"PathCollection_1\">\r\n    <defs>\r\n     <path d=\"M 0 3 \r\nC 0.795609 3 1.55874 2.683901 2.12132 2.12132 \r\nC 2.683901 1.55874 3 0.795609 3 0 \r\nC 3 -0.795609 2.683901 -1.55874 2.12132 -2.12132 \r\nC 1.55874 -2.683901 0.795609 -3 0 -3 \r\nC -0.795609 -3 -1.55874 -2.683901 -2.12132 -2.12132 \r\nC -2.683901 -1.55874 -3 -0.795609 -3 0 \r\nC -3 0.795609 -2.683901 1.55874 -2.12132 2.12132 \r\nC -1.55874 2.683901 -0.795609 3 0 3 \r\nz\r\n\" id=\"m703ad8b68d\" style=\"stroke:#1f77b4;\"/>\r\n    </defs>\r\n    <g clip-path=\"url(#p8c29920ae0)\">\r\n     <use style=\"fill:#1f77b4;stroke:#1f77b4;\" x=\"196.618656\" xlink:href=\"#m703ad8b68d\" y=\"83.479219\"/>\r\n     <use style=\"fill:#1f77b4;stroke:#1f77b4;\" x=\"203.314656\" xlink:href=\"#m703ad8b68d\" y=\"68.468119\"/>\r\n     <use style=\"fill:#1f77b4;stroke:#1f77b4;\" x=\"210.010656\" xlink:href=\"#m703ad8b68d\" y=\"67.452094\"/>\r\n     <use style=\"fill:#1f77b4;stroke:#1f77b4;\" x=\"216.706656\" xlink:href=\"#m703ad8b68d\" y=\"68.468119\"/>\r\n     <use style=\"fill:#1f77b4;stroke:#1f77b4;\" x=\"223.402656\" xlink:href=\"#m703ad8b68d\" y=\"69.717816\"/>\r\n     <use style=\"fill:#1f77b4;stroke:#1f77b4;\" x=\"230.098656\" xlink:href=\"#m703ad8b68d\" y=\"70.867476\"/>\r\n     <use style=\"fill:#1f77b4;stroke:#1f77b4;\" x=\"236.794656\" xlink:href=\"#m703ad8b68d\" y=\"71.865413\"/>\r\n     <use style=\"fill:#1f77b4;stroke:#1f77b4;\" x=\"243.490656\" xlink:href=\"#m703ad8b68d\" y=\"72.721753\"/>\r\n     <use style=\"fill:#1f77b4;stroke:#1f77b4;\" x=\"250.186656\" xlink:href=\"#m703ad8b68d\" y=\"73.458206\"/>\r\n     <use style=\"fill:#1f77b4;stroke:#1f77b4;\" x=\"256.882656\" xlink:href=\"#m703ad8b68d\" y=\"74.095762\"/>\r\n     <use style=\"fill:#1f77b4;stroke:#1f77b4;\" x=\"263.578656\" xlink:href=\"#m703ad8b68d\" y=\"74.652052\"/>\r\n     <use style=\"fill:#1f77b4;stroke:#1f77b4;\" x=\"270.274656\" xlink:href=\"#m703ad8b68d\" y=\"75.141282\"/>\r\n     <use style=\"fill:#1f77b4;stroke:#1f77b4;\" x=\"276.970656\" xlink:href=\"#m703ad8b68d\" y=\"75.574766\"/>\r\n     <use style=\"fill:#1f77b4;stroke:#1f77b4;\" x=\"283.666656\" xlink:href=\"#m703ad8b68d\" y=\"75.96152\"/>\r\n     <use style=\"fill:#1f77b4;stroke:#1f77b4;\" x=\"290.362656\" xlink:href=\"#m703ad8b68d\" y=\"76.30877\"/>\r\n     <use style=\"fill:#1f77b4;stroke:#1f77b4;\" x=\"297.058656\" xlink:href=\"#m703ad8b68d\" y=\"76.622353\"/>\r\n     <use style=\"fill:#1f77b4;stroke:#1f77b4;\" x=\"303.754656\" xlink:href=\"#m703ad8b68d\" y=\"76.90702\"/>\r\n     <use style=\"fill:#1f77b4;stroke:#1f77b4;\" x=\"310.450656\" xlink:href=\"#m703ad8b68d\" y=\"77.166673\"/>\r\n     <use style=\"fill:#1f77b4;stroke:#1f77b4;\" x=\"317.146656\" xlink:href=\"#m703ad8b68d\" y=\"77.404544\"/>\r\n     <use style=\"fill:#1f77b4;stroke:#1f77b4;\" x=\"323.842656\" xlink:href=\"#m703ad8b68d\" y=\"77.623329\"/>\r\n     <use style=\"fill:#1f77b4;stroke:#1f77b4;\" x=\"330.538656\" xlink:href=\"#m703ad8b68d\" y=\"77.825297\"/>\r\n     <use style=\"fill:#1f77b4;stroke:#1f77b4;\" x=\"337.234656\" xlink:href=\"#m703ad8b68d\" y=\"78.012368\"/>\r\n     <use style=\"fill:#1f77b4;stroke:#1f77b4;\" x=\"343.930656\" xlink:href=\"#m703ad8b68d\" y=\"78.186176\"/>\r\n     <use style=\"fill:#1f77b4;stroke:#1f77b4;\" x=\"350.626656\" xlink:href=\"#m703ad8b68d\" y=\"78.348126\"/>\r\n     <use style=\"fill:#1f77b4;stroke:#1f77b4;\" x=\"357.322656\" xlink:href=\"#m703ad8b68d\" y=\"78.499427\"/>\r\n    </g>\r\n   </g>\r\n   <g id=\"matplotlib.axis_1\">\r\n    <g id=\"xtick_1\">\r\n     <g id=\"line2d_1\">\r\n      <defs>\r\n       <path d=\"M 0 0 \r\nL 0 3.5 \r\n\" id=\"m50dfee3ff0\" style=\"stroke:#000000;stroke-width:0.8;\"/>\r\n      </defs>\r\n      <g>\r\n       <use style=\"stroke:#000000;stroke-width:0.8;\" x=\"22.522656\" xlink:href=\"#m50dfee3ff0\" y=\"119.719219\"/>\r\n      </g>\r\n     </g>\r\n     <g id=\"text_1\">\r\n      <!-- −25.0 -->\r\n      <defs>\r\n       <path d=\"M 10.59375 35.5 \r\nL 73.1875 35.5 \r\nL 73.1875 27.203125 \r\nL 10.59375 27.203125 \r\nz\r\n\" id=\"DejaVuSans-8722\"/>\r\n       <path d=\"M 19.1875 8.296875 \r\nL 53.609375 8.296875 \r\nL 53.609375 0 \r\nL 7.328125 0 \r\nL 7.328125 8.296875 \r\nQ 12.9375 14.109375 22.625 23.890625 \r\nQ 32.328125 33.6875 34.8125 36.53125 \r\nQ 39.546875 41.84375 41.421875 45.53125 \r\nQ 43.3125 49.21875 43.3125 52.78125 \r\nQ 43.3125 58.59375 39.234375 62.25 \r\nQ 35.15625 65.921875 28.609375 65.921875 \r\nQ 23.96875 65.921875 18.8125 64.3125 \r\nQ 13.671875 62.703125 7.8125 59.421875 \r\nL 7.8125 69.390625 \r\nQ 13.765625 71.78125 18.9375 73 \r\nQ 24.125 74.21875 28.421875 74.21875 \r\nQ 39.75 74.21875 46.484375 68.546875 \r\nQ 53.21875 62.890625 53.21875 53.421875 \r\nQ 53.21875 48.921875 51.53125 44.890625 \r\nQ 49.859375 40.875 45.40625 35.40625 \r\nQ 44.1875 33.984375 37.640625 27.21875 \r\nQ 31.109375 20.453125 19.1875 8.296875 \r\nz\r\n\" id=\"DejaVuSans-50\"/>\r\n       <path d=\"M 10.796875 72.90625 \r\nL 49.515625 72.90625 \r\nL 49.515625 64.59375 \r\nL 19.828125 64.59375 \r\nL 19.828125 46.734375 \r\nQ 21.96875 47.46875 24.109375 47.828125 \r\nQ 26.265625 48.1875 28.421875 48.1875 \r\nQ 40.625 48.1875 47.75 41.5 \r\nQ 54.890625 34.8125 54.890625 23.390625 \r\nQ 54.890625 11.625 47.5625 5.09375 \r\nQ 40.234375 -1.421875 26.90625 -1.421875 \r\nQ 22.3125 -1.421875 17.546875 -0.640625 \r\nQ 12.796875 0.140625 7.71875 1.703125 \r\nL 7.71875 11.625 \r\nQ 12.109375 9.234375 16.796875 8.0625 \r\nQ 21.484375 6.890625 26.703125 6.890625 \r\nQ 35.15625 6.890625 40.078125 11.328125 \r\nQ 45.015625 15.765625 45.015625 23.390625 \r\nQ 45.015625 31 40.078125 35.4375 \r\nQ 35.15625 39.890625 26.703125 39.890625 \r\nQ 22.75 39.890625 18.8125 39.015625 \r\nQ 14.890625 38.140625 10.796875 36.28125 \r\nz\r\n\" id=\"DejaVuSans-53\"/>\r\n       <path d=\"M 10.6875 12.40625 \r\nL 21 12.40625 \r\nL 21 0 \r\nL 10.6875 0 \r\nz\r\n\" id=\"DejaVuSans-46\"/>\r\n       <path d=\"M 31.78125 66.40625 \r\nQ 24.171875 66.40625 20.328125 58.90625 \r\nQ 16.5 51.421875 16.5 36.375 \r\nQ 16.5 21.390625 20.328125 13.890625 \r\nQ 24.171875 6.390625 31.78125 6.390625 \r\nQ 39.453125 6.390625 43.28125 13.890625 \r\nQ 47.125 21.390625 47.125 36.375 \r\nQ 47.125 51.421875 43.28125 58.90625 \r\nQ 39.453125 66.40625 31.78125 66.40625 \r\nz\r\nM 31.78125 74.21875 \r\nQ 44.046875 74.21875 50.515625 64.515625 \r\nQ 56.984375 54.828125 56.984375 36.375 \r\nQ 56.984375 17.96875 50.515625 8.265625 \r\nQ 44.046875 -1.421875 31.78125 -1.421875 \r\nQ 19.53125 -1.421875 13.0625 8.265625 \r\nQ 6.59375 17.96875 6.59375 36.375 \r\nQ 6.59375 54.828125 13.0625 64.515625 \r\nQ 19.53125 74.21875 31.78125 74.21875 \r\nz\r\n\" id=\"DejaVuSans-48\"/>\r\n      </defs>\r\n      <g transform=\"translate(7.2 134.317656)scale(0.1 -0.1)\">\r\n       <use xlink:href=\"#DejaVuSans-8722\"/>\r\n       <use x=\"83.789062\" xlink:href=\"#DejaVuSans-50\"/>\r\n       <use x=\"147.412109\" xlink:href=\"#DejaVuSans-53\"/>\r\n       <use x=\"211.035156\" xlink:href=\"#DejaVuSans-46\"/>\r\n       <use x=\"242.822266\" xlink:href=\"#DejaVuSans-48\"/>\r\n      </g>\r\n     </g>\r\n    </g>\r\n    <g id=\"xtick_2\">\r\n     <g id=\"line2d_2\">\r\n      <g>\r\n       <use style=\"stroke:#000000;stroke-width:0.8;\" x=\"106.222656\" xlink:href=\"#m50dfee3ff0\" y=\"119.719219\"/>\r\n      </g>\r\n     </g>\r\n     <g id=\"text_2\">\r\n      <!-- −12.5 -->\r\n      <defs>\r\n       <path d=\"M 12.40625 8.296875 \r\nL 28.515625 8.296875 \r\nL 28.515625 63.921875 \r\nL 10.984375 60.40625 \r\nL 10.984375 69.390625 \r\nL 28.421875 72.90625 \r\nL 38.28125 72.90625 \r\nL 38.28125 8.296875 \r\nL 54.390625 8.296875 \r\nL 54.390625 0 \r\nL 12.40625 0 \r\nz\r\n\" id=\"DejaVuSans-49\"/>\r\n      </defs>\r\n      <g transform=\"translate(90.9 134.317656)scale(0.1 -0.1)\">\r\n       <use xlink:href=\"#DejaVuSans-8722\"/>\r\n       <use x=\"83.789062\" xlink:href=\"#DejaVuSans-49\"/>\r\n       <use x=\"147.412109\" xlink:href=\"#DejaVuSans-50\"/>\r\n       <use x=\"211.035156\" xlink:href=\"#DejaVuSans-46\"/>\r\n       <use x=\"242.822266\" xlink:href=\"#DejaVuSans-53\"/>\r\n      </g>\r\n     </g>\r\n    </g>\r\n    <g id=\"xtick_3\">\r\n     <g id=\"line2d_3\">\r\n      <g>\r\n       <use style=\"stroke:#000000;stroke-width:0.8;\" x=\"189.922656\" xlink:href=\"#m50dfee3ff0\" y=\"119.719219\"/>\r\n      </g>\r\n     </g>\r\n     <g id=\"text_3\">\r\n      <!-- 0.0 -->\r\n      <g transform=\"translate(181.971094 134.317656)scale(0.1 -0.1)\">\r\n       <use xlink:href=\"#DejaVuSans-48\"/>\r\n       <use x=\"63.623047\" xlink:href=\"#DejaVuSans-46\"/>\r\n       <use x=\"95.410156\" xlink:href=\"#DejaVuSans-48\"/>\r\n      </g>\r\n     </g>\r\n    </g>\r\n    <g id=\"xtick_4\">\r\n     <g id=\"line2d_4\">\r\n      <g>\r\n       <use style=\"stroke:#000000;stroke-width:0.8;\" x=\"273.622656\" xlink:href=\"#m50dfee3ff0\" y=\"119.719219\"/>\r\n      </g>\r\n     </g>\r\n     <g id=\"text_4\">\r\n      <!-- 12.5 -->\r\n      <g transform=\"translate(262.489844 134.317656)scale(0.1 -0.1)\">\r\n       <use xlink:href=\"#DejaVuSans-49\"/>\r\n       <use x=\"63.623047\" xlink:href=\"#DejaVuSans-50\"/>\r\n       <use x=\"127.246094\" xlink:href=\"#DejaVuSans-46\"/>\r\n       <use x=\"159.033203\" xlink:href=\"#DejaVuSans-53\"/>\r\n      </g>\r\n     </g>\r\n    </g>\r\n    <g id=\"xtick_5\">\r\n     <g id=\"line2d_5\">\r\n      <g>\r\n       <use style=\"stroke:#000000;stroke-width:0.8;\" x=\"357.322656\" xlink:href=\"#m50dfee3ff0\" y=\"119.719219\"/>\r\n      </g>\r\n     </g>\r\n     <g id=\"text_5\">\r\n      <!-- 25.0 -->\r\n      <g transform=\"translate(346.189844 134.317656)scale(0.1 -0.1)\">\r\n       <use xlink:href=\"#DejaVuSans-50\"/>\r\n       <use x=\"63.623047\" xlink:href=\"#DejaVuSans-53\"/>\r\n       <use x=\"127.246094\" xlink:href=\"#DejaVuSans-46\"/>\r\n       <use x=\"159.033203\" xlink:href=\"#DejaVuSans-48\"/>\r\n      </g>\r\n     </g>\r\n    </g>\r\n    <g id=\"text_6\">\r\n     <!-- x -->\r\n     <defs>\r\n      <path d=\"M 54.890625 54.6875 \r\nL 35.109375 28.078125 \r\nL 55.90625 0 \r\nL 45.3125 0 \r\nL 29.390625 21.484375 \r\nL 13.484375 0 \r\nL 2.875 0 \r\nL 24.125 28.609375 \r\nL 4.6875 54.6875 \r\nL 15.28125 54.6875 \r\nL 29.78125 35.203125 \r\nL 44.28125 54.6875 \r\nz\r\n\" id=\"DejaVuSans-120\"/>\r\n     </defs>\r\n     <g transform=\"translate(354.363281 147.995781)scale(0.1 -0.1)\">\r\n      <use xlink:href=\"#DejaVuSans-120\"/>\r\n     </g>\r\n    </g>\r\n   </g>\r\n   <g id=\"matplotlib.axis_2\">\r\n    <g id=\"ytick_1\">\r\n     <g id=\"line2d_6\">\r\n      <defs>\r\n       <path d=\"M 0 0 \r\nL -3.5 0 \r\n\" id=\"m501fc0b47a\" style=\"stroke:#000000;stroke-width:0.8;\"/>\r\n      </defs>\r\n      <g>\r\n       <use style=\"stroke:#000000;stroke-width:0.8;\" x=\"189.922656\" xlink:href=\"#m501fc0b47a\" y=\"228.439219\"/>\r\n      </g>\r\n     </g>\r\n     <g id=\"text_7\">\r\n      <!-- −3.0 -->\r\n      <defs>\r\n       <path d=\"M 40.578125 39.3125 \r\nQ 47.65625 37.796875 51.625 33 \r\nQ 55.609375 28.21875 55.609375 21.1875 \r\nQ 55.609375 10.40625 48.1875 4.484375 \r\nQ 40.765625 -1.421875 27.09375 -1.421875 \r\nQ 22.515625 -1.421875 17.65625 -0.515625 \r\nQ 12.796875 0.390625 7.625 2.203125 \r\nL 7.625 11.71875 \r\nQ 11.71875 9.328125 16.59375 8.109375 \r\nQ 21.484375 6.890625 26.8125 6.890625 \r\nQ 36.078125 6.890625 40.9375 10.546875 \r\nQ 45.796875 14.203125 45.796875 21.1875 \r\nQ 45.796875 27.640625 41.28125 31.265625 \r\nQ 36.765625 34.90625 28.71875 34.90625 \r\nL 20.21875 34.90625 \r\nL 20.21875 43.015625 \r\nL 29.109375 43.015625 \r\nQ 36.375 43.015625 40.234375 45.921875 \r\nQ 44.09375 48.828125 44.09375 54.296875 \r\nQ 44.09375 59.90625 40.109375 62.90625 \r\nQ 36.140625 65.921875 28.71875 65.921875 \r\nQ 24.65625 65.921875 20.015625 65.03125 \r\nQ 15.375 64.15625 9.8125 62.3125 \r\nL 9.8125 71.09375 \r\nQ 15.4375 72.65625 20.34375 73.4375 \r\nQ 25.25 74.21875 29.59375 74.21875 \r\nQ 40.828125 74.21875 47.359375 69.109375 \r\nQ 53.90625 64.015625 53.90625 55.328125 \r\nQ 53.90625 49.265625 50.4375 45.09375 \r\nQ 46.96875 40.921875 40.578125 39.3125 \r\nz\r\n\" id=\"DejaVuSans-51\"/>\r\n      </defs>\r\n      <g transform=\"translate(158.639844 232.238438)scale(0.1 -0.1)\">\r\n       <use xlink:href=\"#DejaVuSans-8722\"/>\r\n       <use x=\"83.789062\" xlink:href=\"#DejaVuSans-51\"/>\r\n       <use x=\"147.412109\" xlink:href=\"#DejaVuSans-46\"/>\r\n       <use x=\"179.199219\" xlink:href=\"#DejaVuSans-48\"/>\r\n      </g>\r\n     </g>\r\n    </g>\r\n    <g id=\"ytick_2\">\r\n     <g id=\"line2d_7\">\r\n      <g>\r\n       <use style=\"stroke:#000000;stroke-width:0.8;\" x=\"189.922656\" xlink:href=\"#m501fc0b47a\" y=\"174.079219\"/>\r\n      </g>\r\n     </g>\r\n     <g id=\"text_8\">\r\n      <!-- −1.5 -->\r\n      <g transform=\"translate(158.639844 177.878437)scale(0.1 -0.1)\">\r\n       <use xlink:href=\"#DejaVuSans-8722\"/>\r\n       <use x=\"83.789062\" xlink:href=\"#DejaVuSans-49\"/>\r\n       <use x=\"147.412109\" xlink:href=\"#DejaVuSans-46\"/>\r\n       <use x=\"179.199219\" xlink:href=\"#DejaVuSans-53\"/>\r\n      </g>\r\n     </g>\r\n    </g>\r\n    <g id=\"ytick_3\">\r\n     <g id=\"line2d_8\">\r\n      <g>\r\n       <use style=\"stroke:#000000;stroke-width:0.8;\" x=\"189.922656\" xlink:href=\"#m501fc0b47a\" y=\"119.719219\"/>\r\n      </g>\r\n     </g>\r\n     <g id=\"text_9\">\r\n      <!-- 0.0 -->\r\n      <g transform=\"translate(167.019531 123.518438)scale(0.1 -0.1)\">\r\n       <use xlink:href=\"#DejaVuSans-48\"/>\r\n       <use x=\"63.623047\" xlink:href=\"#DejaVuSans-46\"/>\r\n       <use x=\"95.410156\" xlink:href=\"#DejaVuSans-48\"/>\r\n      </g>\r\n     </g>\r\n    </g>\r\n    <g id=\"ytick_4\">\r\n     <g id=\"line2d_9\">\r\n      <g>\r\n       <use style=\"stroke:#000000;stroke-width:0.8;\" x=\"189.922656\" xlink:href=\"#m501fc0b47a\" y=\"65.359219\"/>\r\n      </g>\r\n     </g>\r\n     <g id=\"text_10\">\r\n      <!-- 1.5 -->\r\n      <g transform=\"translate(167.019531 69.158438)scale(0.1 -0.1)\">\r\n       <use xlink:href=\"#DejaVuSans-49\"/>\r\n       <use x=\"63.623047\" xlink:href=\"#DejaVuSans-46\"/>\r\n       <use x=\"95.410156\" xlink:href=\"#DejaVuSans-53\"/>\r\n      </g>\r\n     </g>\r\n    </g>\r\n    <g id=\"ytick_5\">\r\n     <g id=\"line2d_10\">\r\n      <g>\r\n       <use style=\"stroke:#000000;stroke-width:0.8;\" x=\"189.922656\" xlink:href=\"#m501fc0b47a\" y=\"10.999219\"/>\r\n      </g>\r\n     </g>\r\n     <g id=\"text_11\">\r\n      <!-- 3.0 -->\r\n      <g transform=\"translate(167.019531 14.798438)scale(0.1 -0.1)\">\r\n       <use xlink:href=\"#DejaVuSans-51\"/>\r\n       <use x=\"63.623047\" xlink:href=\"#DejaVuSans-46\"/>\r\n       <use x=\"95.410156\" xlink:href=\"#DejaVuSans-48\"/>\r\n      </g>\r\n     </g>\r\n    </g>\r\n    <g id=\"text_12\">\r\n     <!-- y -->\r\n     <defs>\r\n      <path d=\"M 32.171875 -5.078125 \r\nQ 28.375 -14.84375 24.75 -17.8125 \r\nQ 21.140625 -20.796875 15.09375 -20.796875 \r\nL 7.90625 -20.796875 \r\nL 7.90625 -13.28125 \r\nL 13.1875 -13.28125 \r\nQ 16.890625 -13.28125 18.9375 -11.515625 \r\nQ 21 -9.765625 23.484375 -3.21875 \r\nL 25.09375 0.875 \r\nL 2.984375 54.6875 \r\nL 12.5 54.6875 \r\nL 29.59375 11.921875 \r\nL 46.6875 54.6875 \r\nL 56.203125 54.6875 \r\nz\r\n\" id=\"DejaVuSans-121\"/>\r\n     </defs>\r\n     <g transform=\"translate(152.560156 13.958594)rotate(-90)scale(0.1 -0.1)\">\r\n      <use xlink:href=\"#DejaVuSans-121\"/>\r\n     </g>\r\n    </g>\r\n   </g>\r\n   <g id=\"patch_3\">\r\n    <path d=\"M 189.922656 228.439219 \r\nL 189.922656 10.999219 \r\n\" style=\"fill:none;stroke:#000000;stroke-linecap:square;stroke-linejoin:miter;stroke-width:0.8;\"/>\r\n   </g>\r\n   <g id=\"patch_4\">\r\n    <path d=\"M 22.522656 119.719219 \r\nL 357.322656 119.719219 \r\n\" style=\"fill:none;stroke:#000000;stroke-linecap:square;stroke-linejoin:miter;stroke-width:0.8;\"/>\r\n   </g>\r\n  </g>\r\n </g>\r\n <defs>\r\n  <clipPath id=\"p8c29920ae0\">\r\n   <rect height=\"217.44\" width=\"334.8\" x=\"22.522656\" y=\"10.999219\"/>\r\n  </clipPath>\r\n </defs>\r\n</svg>\r\n",
      "image/png": "[encoded data removed]"
     },
     "metadata": {
      "needs_background": "light"
     }
    }
   ],
   "source": [
    "def f(x):\n",
    "    return x**(1/x)  \n",
    "FunctionPlotter(f,domain=3,CustomDomain=np.linspace(1,25,25),\n",
    "    ticks=[np.linspace(-25,25,5),np.linspace(-3,3,5)],\n",
    "    lim=[(-25,25),(-3,3)]).PlotSequence()"
   ]
  },
  {
   "cell_type": "code",
   "execution_count": null,
   "metadata": {},
   "outputs": [],
   "source": [
    "plt.sca"
   ]
  }
 ]
}