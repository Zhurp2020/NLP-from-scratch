{
 "metadata": {
  "language_info": {
   "codemirror_mode": {
    "name": "ipython",
    "version": 3
   },
   "file_extension": ".py",
   "mimetype": "text/x-python",
   "name": "python",
   "nbconvert_exporter": "python",
   "pygments_lexer": "ipython3",
   "version": "3.8.1-final"
  },
  "orig_nbformat": 2,
  "kernelspec": {
   "name": "Python 3.8.1 64-bit",
   "display_name": "Python 3.8.1 64-bit",
   "metadata": {
    "interpreter": {
     "hash": "b67a93151de190f6cc8f9707f54bafc2958bf8bfaa7d847c8c4b5621a84335b3"
    }
   }
  }
 },
 "nbformat": 4,
 "nbformat_minor": 2,
 "cells": [
  {
   "source": [
    "# Natural Language Processing with Python\n",
    "## Chapter 10 Analyzing the Meaning of Sentences\n",
    "### 1. Natural Language Understanding\n",
    "#### 1.1 Querying a Database\n",
    "#### 1.2 Natural Language, Semantics and Logic\n",
    "### 2 Propositional Logic"
   ],
   "cell_type": "markdown",
   "metadata": {}
  },
  {
   "cell_type": "code",
   "execution_count": 1,
   "metadata": {},
   "outputs": [],
   "source": [
    "import nltk"
   ]
  },
  {
   "cell_type": "code",
   "execution_count": 2,
   "metadata": {},
   "outputs": [
    {
     "output_type": "execute_result",
     "data": {
      "text/plain": "False"
     },
     "metadata": {},
     "execution_count": 2
    }
   ],
   "source": [
    "val = nltk.Valuation([('P', True), ('Q', True), ('R', False)])\n",
    "dom = set()\n",
    "g = nltk.Assignment(dom)\n",
    "m = nltk.Model(dom,val)\n",
    "m.evaluate('(P & R)',g)"
   ]
  },
  {
   "source": [
    "### 3. First-Order Logic\n",
    "#### 3.1 Syntax\n",
    "#### 3.2 First Order Theorem Proving\n",
    "#### 3.3 Summarizing the Language of First Order Logic\n",
    "#### 3.4 Truth in Model\n",
    "#### 3.5 Individual Variables and Assignments\n",
    "#### 3.6 Quantification\n",
    "#### 3.7 Quantifier Scope Ambiguity\n",
    "#### 3.8 Model Building\n",
    "### 4 The Semantics of English Sentences\n",
    "#### 4.1 Compositional Semantics in Feature-Based Grammar\n",
    "#### 4.2 The λ-Calculus\n",
    "#### 4.3 Quantified NPs\n",
    "#### 4.4 Transitive Verbs\n",
    "#### 4.5 Quantifier Ambiguity Revisited\n",
    "### 5 Discourse Semantics\n",
    "#### 5.1  Discourse Representation Theory\n",
    "#### 5.2 Discourse Processing\n",
    "### 6 Summary\n",
    "### 7 Further Reading\n",
    "### 8 Exercises\n",
    "#### 1. Translate the following sentences into propositional logic and verify that they can be processed with Expression.fromstring(). Provide a key which shows how the propositional variables in your translation correspond to expressions of English.  \n",
    "If Angus sings, it is not the case that Bertie sulks.  \n",
    "Cyril runs and barks.  \n",
    "It will snow if it doesn't rain.  \n",
    "It's not the case that Irene will be happy if Olive or Tofu comes.  \n",
    "Pat didn't cough or sneeze.  \n",
    "If you don't come if I call, I won't come if you call.  \n"
   ],
   "cell_type": "markdown",
   "metadata": {}
  },
  {
   "cell_type": "code",
   "execution_count": 17,
   "metadata": {
    "tags": []
   },
   "outputs": [],
   "source": [
    "read_expr = nltk.sem.Expression.fromstring\n",
    "e1 = read_expr('asing -> - bsulk')\n",
    "e2 = read_expr('crun & cbark')\n",
    "e3 = read_expr('-rain -> snow')\n",
    "e4 = read_expr('-((ocome | tcome) -> ihappy)')\n",
    "e5 = read_expr('-(pcough|psneeze)')\n",
    "e6 = read_expr('(icall -> -ucome) -> (ucall -> -icome)')"
   ]
  },
  {
   "source": [
    "#### 2. Translate the following sentences into predicate-argument formula of first order logic.  \n",
    "Angus likes Cyril and Irene hates Cyril.  \n",
    "Tofu is taller than Bertie.   \n",
    "Bruce loves himself and Pat does too.  \n",
    "Cyril saw Bertie, but Angus didn't.  \n",
    "Cyril is a fourlegged friend.  \n",
    "Tofu and Olive are near each other.  \n"
   ],
   "cell_type": "markdown",
   "metadata": {}
  },
  {
   "source": [
    "e1 = read_expr('like(Angus,Crril) & hate(Irene,Cyril)')\n",
    "e2 = read_expr('taller(Tofu,Bertie)')\n",
    "e3 = read_expr('love(Bruce,Bruce)&love(Pat,Pat)')\n",
    "e4 = read_expr('see(Cyril,Bertie)&-see(Angus,Bertie)')\n",
    "e5 = read_expr('fourleggedfrien(Cyril)')\n",
    "e6 = read_expr('near(Tofu,Olive)&near(Olive,Tofu)')"
   ],
   "cell_type": "code",
   "metadata": {},
   "execution_count": 18,
   "outputs": []
  },
  {
   "source": [
    "#### 3. Translate the following sentences into quantified formulas of first order logic.  \n",
    "Angus likes someone and someone likes Julia.  \n",
    "Angus loves a dog who loves him.  \n",
    "Nobody smiles at Pat.  \n",
    "Somebody coughs and sneezes.  \n",
    "Nobody coughed or sneezed.  \n",
    "Bruce loves somebody other than Bruce.   \n",
    "Nobody other than Matthew loves somebody Pat.   \n",
    "Cyril likes everyone except for Irene.   \n",
    "Exactly one person is asleep.  \n"
   ],
   "cell_type": "markdown",
   "metadata": {}
  },
  {
   "cell_type": "code",
   "execution_count": 23,
   "metadata": {},
   "outputs": [],
   "source": [
    "e1 = read_expr('exists x.like(Angus,x) & exists y.like(y,Julia)')\n",
    "e2 = read_expr('exists x.(dog(x) & love(Anugs,x) & love(x,Angus))')\n",
    "e3 = read_expr('-exists x.smile(x,pat)')\n",
    "e4 = read_expr('exists x.(cough(x) & sneeze(x))')\n",
    "e5 = read_expr('exists x.(love(Bruce,x)&-Bruce(x))')\n",
    "e6 = read_expr('-exists x.(love(x,pat)&-Matthew(x))')\n",
    "e7 = read_expr('exists x.(love(Cyril,x)&Irene(x))')\n",
    "e8 = read_expr('exists x.sleep(x) & all y.(-equal(x,y)&-sleep(y))')"
   ]
  },
  {
   "source": [
    "#### 4. Translate the following verb phrases using λ abstracts. quantified formulas of first order logic.    \n",
    "feed Cyril and give a capuccino to Angus  \n",
    "be given 'War and Peace' by Pat  \n",
    "be loved by everyone  \n",
    "be loved or detested by everyone  \n",
    "be loved by everyone and detested by no-one  "
   ],
   "cell_type": "markdown",
   "metadata": {}
  },
  {
   "cell_type": "code",
   "execution_count": 28,
   "metadata": {},
   "outputs": [],
   "source": [
    "e1 = read_expr(r'\\x. (feed(x,Cyril)&give(x,capuccino,Angus))')\n",
    "e2 = read_expr(r'\\x. give(Pat,warandpeace,x)')\n",
    "e3 = read_expr(r'all y.(\\x.love(y,x))')\n",
    "e4 = read_expr(r'all y.(\\x.(love(y,x)|detest(y,x)))')\n",
    "d5 = read_expr(r'all y.(\\x.(love(y,x)|-detest(y,x)))')"
   ]
  },
  {
   "source": [
    "#### 5. Consider the following statements:\n",
    "```\n",
    ">>> read_expr = nltk.sem.Expression.fromstring\n",
    ">>> e2 = read_expr('pat')\n",
    ">>> e3 = nltk.sem.ApplicationExpression(e1, e2)\n",
    ">>> print(e3.simplify())\n",
    "exists y.love(pat, y)\n",
    "```\n",
    "Clearly something is missing here, namely a declaration of the value of `e1`. In order for `ApplicationExpression(e1, e2)` to be β-convertible to `exists y.love(pat, y)`, `e1` must be a λ-abstract which can take pat as an argument. Your task is to construct such an abstract, bind it to `e1`, and satisfy yourself that the statements above are all satisfied (up to alphabetic variance). In addition, provide an informal English translation of `e3.simplify()`.  \n",
    "Now carry on doing this same task for the further cases of  `e3.simplify()` shown below.\n",
    "```\n",
    ">>> print(e3.simplify())\n",
    "exists y.(love(pat,y) | love(y,pat))\n",
    "```\n",
    "``` \t\n",
    ">>> print(e3.simplify())\n",
    "walk(fido)\n",
    "```"
   ],
   "cell_type": "markdown",
   "metadata": {}
  },
  {
   "cell_type": "code",
   "execution_count": 32,
   "metadata": {
    "tags": []
   },
   "outputs": [
    {
     "output_type": "stream",
     "name": "stdout",
     "text": "exists y.love(pat,y)\n"
    }
   ],
   "source": [
    "read_expr = nltk.sem.Expression.fromstring\n",
    "e1 = read_expr(r'\\x.(exist y.love(x,y))')\n",
    "e2 = read_expr('pat')\n",
    "e3 = nltk.sem.ApplicationExpression(e1, e2)\n",
    "print(e3.simplify())"
   ]
  },
  {
   "cell_type": "code",
   "execution_count": 33,
   "metadata": {
    "tags": []
   },
   "outputs": [
    {
     "output_type": "stream",
     "name": "stdout",
     "text": "(exists y.love(pat,y) | love(y,pat))\n"
    }
   ],
   "source": [
    "read_expr = nltk.sem.Expression.fromstring\n",
    "e1 = read_expr(r'\\x.(exist y.love(x,y)|love(y,x))')\n",
    "e2 = read_expr('pat')\n",
    "e3 = nltk.sem.ApplicationExpression(e1, e2)\n",
    "print(e3.simplify())"
   ]
  },
  {
   "cell_type": "code",
   "execution_count": 34,
   "metadata": {
    "tags": []
   },
   "outputs": [
    {
     "output_type": "stream",
     "name": "stdout",
     "text": "walk(fido)\n"
    }
   ],
   "source": [
    "read_expr = nltk.sem.Expression.fromstring\n",
    "e1 = read_expr(r'\\x.walk(fido)')\n",
    "e2 = read_expr('pat')\n",
    "e3 = nltk.sem.ApplicationExpression(e1, e2)\n",
    "print(e3.simplify())"
   ]
  },
  {
   "source": [
    "#### 6. As in the preceding exercise, find a λ abstract `e1` that yields results equivalent to those shown below.\n",
    "```\n",
    ">>> e2 = read_expr('chase')\n",
    ">>> e3 = nltk.sem.ApplicationExpression(e1, e2)\n",
    ">>> print(e3.simplify())\n",
    "\\x.all y.(dog(y) -> chase(x,pat))\n",
    "```\n",
    "```\n",
    ">>> e2 = read_expr('chase')\n",
    ">>> e3 = nltk.sem.ApplicationExpression(e1, e2)\n",
    ">>> print(e3.simplify())\n",
    "\\x.exists y.(dog(y) & chase(pat,x))\n",
    "```\n",
    "```\n",
    ">>> e2 = read_expr('give')\n",
    ">>> e3 = nltk.sem.ApplicationExpression(e1, e2)\n",
    ">>> print(e3.simplify())\n",
    "\\x0 x1.exists y.(present(y) & give(x1,y,x0))\n",
    "```"
   ],
   "cell_type": "markdown",
   "metadata": {}
  },
  {
   "cell_type": "code",
   "execution_count": 35,
   "metadata": {
    "tags": []
   },
   "outputs": [
    {
     "output_type": "stream",
     "name": "stdout",
     "text": "\\x.all y.(dog(y) -&gt; chase(x,pat))\n"
    }
   ],
   "source": [
    "read_expr = nltk.sem.Expression.fromstring\n",
    "e1 = read_expr(r'\\P \\x. all y.(dog(y)-> P(x,pat))')\n",
    "e2 = read_expr('chase')\n",
    "e3 = nltk.sem.ApplicationExpression(e1, e2)\n",
    "print(e3.simplify())"
   ]
  },
  {
   "cell_type": "code",
   "execution_count": 36,
   "metadata": {
    "tags": []
   },
   "outputs": [
    {
     "output_type": "stream",
     "name": "stdout",
     "text": "\\x.exists y.(dog(y) -&gt; chase(pat,x))\n"
    }
   ],
   "source": [
    "read_expr = nltk.sem.Expression.fromstring\n",
    "e1 = read_expr(r'\\P \\x. exists y.(dog(y)-> P(pat,x))')\n",
    "e2 = read_expr('chase')\n",
    "e3 = nltk.sem.ApplicationExpression(e1, e2)\n",
    "print(e3.simplify())"
   ]
  },
  {
   "cell_type": "code",
   "execution_count": 37,
   "metadata": {
    "tags": []
   },
   "outputs": [
    {
     "output_type": "stream",
     "name": "stdout",
     "text": "\\x0 x1.exists y.(present(y) &amp; give(x1,y,x0))\n"
    }
   ],
   "source": [
    "read_expr = nltk.sem.Expression.fromstring\n",
    "e1 = read_expr(r'\\P x0 x1.exists y.(present(y) & P(x1,y,x0))')\n",
    "e2 = read_expr('give')\n",
    "e3 = nltk.sem.ApplicationExpression(e1, e2)\n",
    "print(e3.simplify())"
   ]
  },
  {
   "source": [
    "#### 7. As in the preceding exercise, find a λ abstract `e1` that yields results equivalent to those shown below.\n",
    "```\n",
    ">>> e2 = read_expr('bark')\n",
    ">>> e3 = nltk.sem.ApplicationExpression(e1, e2)\n",
    ">>> print(e3.simplify())\n",
    "exists y.(dog(x) & bark(x))\n",
    "```\n",
    "```\n",
    ">>> e2 = read_expr('bark')\n",
    ">>> e3 = nltk.sem.ApplicationExpression(e1, e2)\n",
    ">>> print(e3.simplify())\n",
    "bark(fido)\n",
    "```\n",
    "```\n",
    ">>> e2 = read_expr('\\\\P. all x. (dog(x) -> P(x))')\n",
    ">>> e3 = nltk.sem.ApplicationExpression(e1, e2)\n",
    ">>> print(e3.simplify())\n",
    "all x.(dog(x) -> bark(x))\n",
    "```"
   ],
   "cell_type": "markdown",
   "metadata": {}
  },
  {
   "cell_type": "code",
   "execution_count": 38,
   "metadata": {
    "tags": []
   },
   "outputs": [
    {
     "output_type": "stream",
     "name": "stdout",
     "text": "exists y.(dog(x) &amp; bark(x))\n"
    }
   ],
   "source": [
    "read_expr = nltk.sem.Expression.fromstring\n",
    "e1 = read_expr(r'\\P.exists y.(dog(x) & P(x))')\n",
    "e2 = read_expr('bark')\n",
    "e3 = nltk.sem.ApplicationExpression(e1, e2)\n",
    "print(e3.simplify())"
   ]
  },
  {
   "cell_type": "code",
   "execution_count": 39,
   "metadata": {
    "tags": []
   },
   "outputs": [
    {
     "output_type": "stream",
     "name": "stdout",
     "text": "bark(fido)\n"
    }
   ],
   "source": [
    "read_expr = nltk.sem.Expression.fromstring\n",
    "e1 = read_expr(r'\\P.P(fido)')\n",
    "e2 = read_expr('bark')\n",
    "e3 = nltk.sem.ApplicationExpression(e1, e2)\n",
    "print(e3.simplify())"
   ]
  },
  {
   "cell_type": "code",
   "execution_count": 40,
   "metadata": {
    "tags": []
   },
   "outputs": [
    {
     "output_type": "stream",
     "name": "stdout",
     "text": "all x.(dog(x) -&gt; bark(x))\n"
    }
   ],
   "source": [
    "read_expr = nltk.sem.Expression.fromstring\n",
    "e1 = read_expr(r'\\P.all x.(dog(x) -> P(x))')\n",
    "e2 = read_expr('bark')\n",
    "e3 = nltk.sem.ApplicationExpression(e1, e2)\n",
    "print(e3.simplify())"
   ]
  },
  {
   "source": [
    "#### 8. Develop a method for translating English sentences into formulas with binary generalized quantifiers. In such an approach, given a generalized quantifier `Q`, a quantified formula is of the form `Q(A, B)`, where both `A` and `B` are expressions of type `〈e, t〉`. Then, for example, `all(A, B)` is true iff `A` denotes a subset of what `B` denotes.\n",
    "#### 9. Extend the approach in the preceding exercise so that the truth conditions for quantifiers like most and exactly three can be computed in a model.\n",
    "#### 10 Modify the `sem.evaluate` code so that it will give a helpful error message if an expression is not in the domain of a model's valuation function.\n",
    "#### 11. Select three or four contiguous sentences from a book for children. A possible source of examples are the collections of stories in `nltk.corpus.gutenberg`: `bryant-stories.txt`, `burgess-busterbrown.txt` and `edgeworth-parents.txt`. Develop a grammar which will allow your sentences to be translated into first order logic, and build a model which will allow those translations to be checked for truth or falsity.\n",
    "#### 12. Carry out the preceding exercise, but use DRT as the meaning representation.\n",
    "#### 13. Taking (Warren & Pereira, 1982) as a starting point, develop a technique for converting a natural language query into a form that can be evaluated more efficiently in a model. For example, given a query of the form `(P(x) & Q(x))`, convert it to `(Q(x) & P(x))` if the extension of `Q` is smaller than the extension of `P`."
   ],
   "cell_type": "markdown",
   "metadata": {}
  }
 ]
}