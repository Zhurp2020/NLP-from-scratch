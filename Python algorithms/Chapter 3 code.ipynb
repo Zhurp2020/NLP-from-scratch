{
 "cells": [
  {
   "cell_type": "markdown",
   "metadata": {},
   "source": [
    "# Python Algorithms\n",
    "## Chapter 3 Counting 101\n",
    "### The Skinny on Sums\n",
    "### A Tale of Two Tournaments\n",
    "### Subsets, Permutations, and Combinations\n",
    "+ If each bit represents the presence or absence of an object from a size-$k$ set, each bit string represents one of the $2^k$ possible subsets. Perhaps the most important consequence of this is that any algorithm that needs to check every subset of the input objects necessarily has an exponential running time complexity.\n",
    "+ Permutations are orderings. the number of permutations of $n$ items is the factorial of $n$, or $n!$\n",
    "+ Combinations are a close relative of both permutations and subsets. A combination of $k$ elements, drawn from a set of $n, is sometimes written $C(n, k)$, or $n\\choose k$  \n",
    "  $$\n",
    "  {n\\choose k }= \\dfrac{n!}{k!(n-k)!}  \\\\\n",
    "  \\sum^n_{k=0}{n\\choose k } = 2^n\n",
    "  $$\n",
    "### Recursion and Recurrences\n",
    "#### Doing It by Hand\n",
    "#### A Few Important Examples\n",
    "$T(n) = 2T(\\dfrac{n}{2})+1$  \n",
    "$= 2[2T(\\dfrac{n}{4})+ 1] + 1$    \n",
    "$= 2[2[2T(\\dfrac{n}{8}) + 1]+ 1] + 1$   \n",
    "$= 2^iT(\\dfrac{n}{2^i})+2^n-1$  \n",
    "$i = \\lg n, T(n) = nT(1) +n-1$  \n",
    "$T(n) = \\Theta(n)$  \n",
    "$T(n) = 2T(\\dfrac{n}{2})+n$  \n",
    "$= 2[2T(\\dfrac{n}{4})+ \\dfrac{n}{2}] + n$  \n",
    "$= 2^iT(\\dfrac{n}{2^i})+in$  \n",
    "$i = \\lg n, T(n) = nT(1) +n\\lg n$  \n",
    "$T(n) = \\Theta(n\\lg n)$\n",
    "#### Guessing and Checking\n",
    "Strong induction  \n",
    "Assumption: $T(\\dfrac{n}{2})\\le c(\\dfrac{n}{2}\\lg \\dfrac{n}{2})$  \n",
    "$T(n) = 2T(\\dfrac{n}{2})+n \\le cn\\lg \\dfrac{n}{2} + n$   \n",
    "$= cn\\lg n - cn\\lg 2 + n$   \n",
    "$= cn\\lg n -(c-1)n \\le cn\\lg n$ for $c >1$\n",
    "#### The Master Theorem: A Cookie-Cutter Solution\n",
    "$T(n) = aT(\\dfrac{n}{b})+f(n)$   \n",
    "![](../images/python%20algorithm/2.jpg)  \n",
    "1. If the root dominates, $af(\\dfrac{n}{b})\\le cf(n),c <1, f(n)\\in \\Omega(n^{\\log_ba+\\epsilon}),\\epsilon > 0,$ then $f(n)$ dominates, $T(n)\\in\\Theta(f(n))$\n",
    "2. If the leaves dominate, $f(n)\\in O(n^{\\log_ba-\\epsilon}),\\epsilon > 0,$ then $T(n)\\in\\Theta(n^{\\log_ba})$  \n",
    "3. If the work is equal, $f(n) \\in\\Theta(n^{\\log_ba})$, then $T(n)\\in\\Theta(n^{\\log_ba}\\lg n)$\n",
    "### So What Was All That About?\n",
    "### Exercise\n",
    "1. Show that the properties described in the section “Working with Sums” are correct.\n",
    "    $c\\sum\\limits_{i=0}^nf(i) = c(f(1) + f(2) + \\dots + f(n)) = cf(1) + cf(2) + \\dots + cf(n) = \\sum\\limits_{i=0}^ncf(i)$  \n",
    "    $\\sum\\limits_{i=0}^n(f(i) + g(i)) = f(1) + f(2) + \\dots + f(n) + g(1) + g(2) + \\dots + g(n)= \\sum\\limits_{i=0}^nf(i) + \\sum\\limits_{i=0}^nf(i)$\n",
    "\n",
    "2. Use the rules from Chapter 2 to show that $\\dfrac{n(n–1)}{2}$ is $\\Theta(n^2).$  \n",
    "   $\\dfrac{n(n–1)}{2n^2} = \\dfrac{n^2–n}{2n^2} < \\dfrac{1}{2}$ for $n > 0$    \n",
    "   $\\dfrac{d}{dn}\\dfrac{n(n–1)}{2n^2} = \\dfrac{1}{2n^2} > 0$  \n",
    "   $\\dfrac{n^2–n}{2n^2} >\\dfrac{1}{4}$ for $n > 2$  \n",
    "   $\\dfrac{1}{4}n^2 < \\dfrac{n^2–n}{2} < \\dfrac{1}{2}n^2$ for $n > 2,\\dfrac{n(n–1)}{2}$ is $\\Theta(n^2).$\n",
    "\n",
    "3. The sum of the first $k$ non-negative integer powers of $2$ is $2^{k+1} – 1$. Show how this property lets you represent any positive integer as a binary number.  \n",
    "    $k$ digits of binary number can represent $2^k$ numbers\n",
    "4.  In the section “The Hare and the Tortoise,” two methods of looking for a number are sketched. Turn these methods into number-guessing algorithms, and implement them as Python programs."
   ]
  },
  {
   "cell_type": "code",
   "execution_count": 14,
   "metadata": {},
   "outputs": [
    {
     "name": "stdout",
     "output_type": "stream",
     "text": [
      "2500\n",
      "1250\n",
      "625\n",
      "937\n",
      "1093\n",
      "1171\n",
      "1210\n",
      "1230\n",
      "1240\n",
      "1235\n",
      "1232\n",
      "1233\n",
      "1234\n"
     ]
    },
    {
     "data": {
      "text/plain": [
       "1234"
      ]
     },
     "execution_count": 14,
     "metadata": {},
     "output_type": "execute_result"
    }
   ],
   "source": [
    "def guess(num):\n",
    "    guess = 5000\n",
    "    uplim = 10000\n",
    "    downlim = 0\n",
    "    while num != guess:\n",
    "        if num < guess:\n",
    "            uplim = guess\n",
    "            guess = int((downlim + guess)/2)\n",
    "        else:\n",
    "            downlim = guess\n",
    "            guess = int((uplim + guess)/2)\n",
    "        print(guess)\n",
    "    return guess\n",
    "n = 1234\n",
    "guess(n)"
   ]
  },
  {
   "cell_type": "markdown",
   "metadata": {},
   "source": [
    "5. Show that $C(n, k) = C(n, n–k)$.  \n",
    "   $C(n, k) = \\dfrac{n!}{k!(n-k)!}$  \n",
    "   $C(n, n–k) = \\dfrac{n!}{(n-k)!k!} = C(n,k)$\n",
    "\n",
    "6. In the recursive function `S` early in the section “Recursion and Recurrences,” assume that instead of using a position parameter, `i`, the function simply returned `seq[0] + S(seq[1:])`. What would the asymptotic running time be now?  \n",
    "    $T(n) = T(n-1)+1 = \\Theta(n)$\n",
    "7. Solve recurrence in Table 3-1 using repeated substitution    \n",
    "   $T(n) = T(n-1)+n$  \n",
    "   $T(n) = T(n-2)+n-1+n$  \n",
    "   $T(n) = T(n-i) +\\sum\\limits_{k=0}^{i-1}(n-k)$   \n",
    "   $T(n) = T(1) + \\dfrac{n(n-i)i}{2} = 1 + \\dfrac{n(n-1)}{2}$   \n",
    "   $T(n) = \\Theta(n^2)$\n",
    "8. Solve recurrence 3 in Table 3-1 using repeated substitution.  \n",
    "   $T(n) = 2T(n-1)+1$  \n",
    "   $T(n) = 2[2T(n-2)+1]+1$  \n",
    "   $T(n) = 2^iT(n-i) +\\sum\\limits_{k=0}^{i-1}2^k$   \n",
    "   $T(n) = 2^{n-1}T(1) + 2^{n-1}-1 = 2^n -1$  \n",
    "   $T(n) = \\Theta(2^n)$\n",
    "9. Solve recurrence 4 in Table 3-1 using repeated substitution.  \n",
    "   $T(n) = 2T(n-1)+n$  \n",
    "   $T(n) = 2[2T(n-2)+n-1]+n$  \n",
    "   $T(n) = 2^iT(n-i) +\\sum\\limits_{k=0}^{i-1}2^kn-2k$   \n",
    "   $T(n) = 2^{n-1}T(1) + n(2^{n-1}-1)-\\dfrac{i2(i-1)}{2} = 2^{n-1} + n2^{n-1}-n-(n-1)(n-2)$  \n",
    "   $T(n) = \\Theta(n2^n)$\n",
    "10. Show that $x^{\\log y} = y^{\\log x}$, no matter the base of the logarithm.   \n",
    "    $\\log_a y = t, y = a^t$  \n",
    "    $(a^t)^{\\log_a x} = a^{t\\log_ax} = x^t =x^{\\log y}$\n",
    "11. Show that $f(n)$ is $\\Theta(n)$ for the implementation of merge sort in Listing 3-2.  \n",
    "    Revering a list size $n$ is $\\Theta(n)$\n",
    "12. In merge sort in Listing 3-2, objects are popped from the end of each half of the sequence (with `pop()`). It might be more intuitive to pop from the beginning, with `pop(0)`, to avoid having to reverse `res` afterward (I’ve seen this done in real life), but `pop(0)`, just like `insert(0)`, is a linear operation, as opposed to `pop()`, which is constant. What would such a switch mean for the overall running time?  \n",
    "    It will become $T(n) = 2T(\\dfrac{n}{2}) + n^2$, resulting in $\\Theta(n^2)$ time."
   ]
  }
 ],
 "metadata": {
  "interpreter": {
   "hash": "b67a93151de190f6cc8f9707f54bafc2958bf8bfaa7d847c8c4b5621a84335b3"
  },
  "kernelspec": {
   "display_name": "Python 3.8.1 64-bit",
   "name": "python3"
  },
  "language_info": {
   "codemirror_mode": {
    "name": "ipython",
    "version": 3
   },
   "file_extension": ".py",
   "mimetype": "text/x-python",
   "name": "python",
   "nbconvert_exporter": "python",
   "pygments_lexer": "ipython3",
   "version": "3.8.1"
  },
  "orig_nbformat": 4
 },
 "nbformat": 4,
 "nbformat_minor": 2
}
