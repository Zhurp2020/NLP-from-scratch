{
 "cells": [
  {
   "cell_type": "markdown",
   "source": [
    "# Python Algorithms\r\n",
    "## Chapter 3 Counting 101\r\n",
    "### The Skinny on Sums\r\n",
    "### A Tale of Two Tournaments\r\n",
    "### Subsets, Permutations, and Combinations\r\n",
    "### Recursion and Recurrences\r\n",
    "### So What Was All That About?\r\n",
    "### Exercise\r\n",
    "1. Show that the properties described in the section “Working with Sums” are correct.\r\n",
    "    $c\\sum\\limits_{i=0}^nf(i) = c(f(1) + f(2) + \\dots + f(n)) = cf(1) + cf(2) + \\dots + cf(n) = \\sum\\limits_{i=0}^ncf(i)$  \r\n",
    "    $\\sum\\limits_{i=0}^n(f(i) + g(i)) = f(1) + f(2) + \\dots + f(n) + g(1) + g(2) + \\dots + g(n)= \\sum\\limits_{i=0}^nf(i) + \\sum\\limits_{i=0}^nf(i)$\r\n",
    "\r\n",
    "2. Use the rules from Chapter 2 to show that $\\dfrac{n(n–1)}{2}$ is $\\Theta(n^2).$  \r\n",
    "   $\\dfrac{n(n–1)}{2n^2} = \\dfrac{n^2–n}{2n^2} < \\dfrac{1}{2}$ for $n > 0$    \r\n",
    "   $\\dfrac{d}{dn}\\dfrac{n(n–1)}{2n^2} = \\dfrac{1}{2n^2} > 0$  \r\n",
    "   $\\dfrac{n^2–n}{2n^2} >\\dfrac{1}{4}$ for $n > 2$  \r\n",
    "   $\\dfrac{1}{4}n^2 < \\dfrac{n^2–n}{2} < \\dfrac{1}{2}n^2$ for $n > 2,\\dfrac{n(n–1)}{2}$ is $\\Theta(n^2).$\r\n",
    "\r\n",
    "3. The sum of the first $k$ non-negative integer powers of $2$ is $2^{k+1} – 1$. Show how this property lets you represent any positive integer as a binary number.  \r\n",
    "    $k$ digits of binary number can represent $2^k$ numbers\r\n",
    "4.  In the section “The Hare and the Tortoise,” two methods of looking for a number are sketched. Turn these methods into number-guessing algorithms, and implement them as Python programs."
   ],
   "metadata": {}
  },
  {
   "cell_type": "code",
   "execution_count": 14,
   "source": [
    "def guess(num):\r\n",
    "    guess = 5000\r\n",
    "    uplim = 10000\r\n",
    "    downlim = 0\r\n",
    "    while num != guess:\r\n",
    "        if num < guess:\r\n",
    "            uplim = guess\r\n",
    "            guess = int((downlim + guess)/2)\r\n",
    "        else:\r\n",
    "            downlim = guess\r\n",
    "            guess = int((uplim + guess)/2)\r\n",
    "        print(guess)\r\n",
    "    return guess\r\n",
    "n = 1234\r\n",
    "guess(n)"
   ],
   "outputs": [
    {
     "output_type": "stream",
     "name": "stdout",
     "text": [
      "2500\n",
      "1250\n",
      "625\n",
      "937\n",
      "1093\n",
      "1171\n",
      "1210\n",
      "1230\n",
      "1240\n",
      "1235\n",
      "1232\n",
      "1233\n",
      "1234\n"
     ]
    },
    {
     "output_type": "execute_result",
     "data": {
      "text/plain": [
       "1234"
      ]
     },
     "metadata": {},
     "execution_count": 14
    }
   ],
   "metadata": {}
  },
  {
   "cell_type": "markdown",
   "source": [
    "5. Show that $C(n, k) = C(n, n–k)$.  \r\n",
    "   $C(n, k) = \\dfrac{n!}{k!(n-k)!}$  \r\n",
    "   $C(n, n–k) = \\dfrac{n!}{(n-k)!k!} = C(n,k)$\r\n",
    "\r\n",
    "6. In the recursive function `S` early in the section “Recursion and Recurrences,” assume that instead of using a position parameter, `i`, the function simply returned `seq[0] + S(seq[1:])`. What would the asymptotic running time be now?  \r\n",
    "    $T(n) = T(n-1)+1 = \\Theta(n)$\r\n",
    "7. Solve recurrence in Table 3-1 using repeated substitution    \r\n",
    "   $T(n) = T(n-1)+n$  \r\n",
    "   $T(n) = T(n-2)+n-1+n$  \r\n",
    "   $T(n) = T(n-i) +\\sum\\limits_{k=0}^{i-1}(n-k)$   \r\n",
    "   $T(n) = T(1) + \\dfrac{n(n-i)i}{2} = 1 + \\dfrac{n(n-1)}{2}$   \r\n",
    "   $T(n) = \\Theta(n^2)$\r\n",
    "8. Solve recurrence 3 in Table 3-1 using repeated substitution.  \r\n",
    "   $T(n) = 2T(n-1)+1$  \r\n",
    "   $T(n) = 2[2T(n-2)+1]+1$  \r\n",
    "   $T(n) = 2^iT(n-i) +\\sum\\limits_{k=0}^{i-1}2^k$   \r\n",
    "   $T(n) = 2^{n-1}T(1) + 2^{n-1}-1 = 2^n -1$  \r\n",
    "   $T(n) = \\Theta(2^n)$\r\n",
    "9. Solve recurrence 4 in Table 3-1 using repeated substitution.  \r\n",
    "   $T(n) = 2T(n-1)+n$  \r\n",
    "   $T(n) = 2[2T(n-2)+n-1]+n$  \r\n",
    "   $T(n) = 2^iT(n-i) +\\sum\\limits_{k=0}^{i-1}2^kn-2k$   \r\n",
    "   $T(n) = 2^{n-1}T(1) + n(2^{n-1}-1)-\\dfrac{i2(i-1)}{2} = 2^{n-1} + n2^{n-1}-n-(n-1)(n-2)$  \r\n",
    "   $T(n) = \\Theta(n2^n)$\r\n",
    "10. Show that $x^{\\log y} = y^{\\log x}$, no matter the base of the logarithm.   \r\n",
    "    $\\log_a y = t, y = a^t$  \r\n",
    "    $(a^t)^{\\log_a x} = a^{t\\log_ax} = x^t =x^{\\log y}$\r\n",
    "11. Show that $f(n)$ is $\\Theta(n)$ for the implementation of merge sort in Listing 3-2.  \r\n",
    "    Revering a list size $n$ is $\\Theta(n)$\r\n",
    "12. In merge sort in Listing 3-2, objects are popped from the end of each half of the sequence (with `pop()`). It might be more intuitive to pop from the beginning, with `pop(0)`, to avoid having to reverse `res` afterward (I’ve seen this done in real life), but `pop(0)`, just like `insert(0)`, is a linear operation, as opposed to `pop()`, which is constant. What would such a switch mean for the overall running time?  \r\n",
    "    It will become $T(n) = 2T(\\dfrac{n}{2}) + n^2$, resulting in $\\Theta(n^2)$ time."
   ],
   "metadata": {}
  }
 ],
 "metadata": {
  "orig_nbformat": 4,
  "language_info": {
   "name": "python",
   "version": "3.8.1",
   "mimetype": "text/x-python",
   "codemirror_mode": {
    "name": "ipython",
    "version": 3
   },
   "pygments_lexer": "ipython3",
   "nbconvert_exporter": "python",
   "file_extension": ".py"
  },
  "kernelspec": {
   "name": "python3",
   "display_name": "Python 3.8.1 64-bit"
  },
  "interpreter": {
   "hash": "b67a93151de190f6cc8f9707f54bafc2958bf8bfaa7d847c8c4b5621a84335b3"
  }
 },
 "nbformat": 4,
 "nbformat_minor": 2
}