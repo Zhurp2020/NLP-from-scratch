{
 "cells": [
  {
   "cell_type": "markdown",
   "metadata": {},
   "source": [
    "# Python algorithms\n",
    "## Chapter 10 Matchings, Cuts, and Flows\n",
    "### Bipartite Matching\n",
    "In general, a matching for a graph is a node-disjoint subset of the edges. That is, we select some of the edges in such a way that no two edges share a node. This means that each edge matches two pairs—hence the name. A special kind of matching applies to bipartite graphs, graphs that can be partitioned into two independent node sets\n",
    "### Disjoint Paths\n",
    "Edge-disjoint paths can share nodes but not edges. In this more general setting, we no longer need to restrict ourselves to bipartite graphs. When we allow general \n",
    "directed graphs, however, we can freely specify where the paths are to start and end. The easiest (and most common) solution is to specify two special nodes, s and t, called the source and the sink. (Such a graph is often called an s-t graph, or an s-t-network.) We then require all paths to start in s and end in t (implicitly allowing the paths to share these two nodes).\n",
    "+ The number of paths going into any node except s or t must equal the number of paths going out of that node.\n",
    "+ At most one path can go through any given edge.\n",
    "### Maximum Flow\n",
    "It forms a generalization of both the bipartite matching and the disjoint paths, and it is the mirror image of the minimum cut problem (next section). The only difference from the disjoint path case is that instead of setting the capacity for each edge to one, we let it be an arbitrary positive number. If the capacity is a positive integer, you could think of it as the number of paths that can pass through it. More generally, the metaphor here is some form of substance flowing through the network, from the source to the sink, and the capacity represents the limit for how many units can flow through a given edge  \n",
    "+ The amount of flow going into any node except s or t must equal the amount of flow going out of that node.\n",
    "+  At most c(e) units of flow can go through any given edge\n",
    "### Minimum Cut\n",
    "### Cheapest Flow and the Assignment Problem*\n",
    "### Some Applications"
   ]
  },
  {
   "cell_type": "code",
   "execution_count": null,
   "metadata": {},
   "outputs": [],
   "source": []
  }
 ],
 "metadata": {
  "language_info": {
   "name": "python"
  },
  "orig_nbformat": 4
 },
 "nbformat": 4,
 "nbformat_minor": 2
}
