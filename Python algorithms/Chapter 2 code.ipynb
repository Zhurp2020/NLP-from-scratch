{
 "cells": [
  {
   "cell_type": "code",
   "execution_count": 35,
   "metadata": {},
   "outputs": [],
   "source": [
    "import time\r\n",
    "import matplotlib.pyplot as plt\r\n",
    "def timer(func):\r\n",
    "    def inner(*args,**kwargs):\r\n",
    "        t0 = time.time()\r\n",
    "        func(*args,**kwargs)\r\n",
    "        t1 = time.time()\r\n",
    "        return t1-t0\r\n",
    "    return inner\r\n",
    "\r\n",
    "class TimePlotter(object):\r\n",
    "    def __init__(self,funcs:list,DataSize=[1000000,10000000,100000000],default = 0.01,scale='log'):\r\n",
    "        self.data = []\r\n",
    "        self.time = []\r\n",
    "        self.DataSize = DataSize\r\n",
    "        self.default = default\r\n",
    "        self.scale = scale\r\n",
    "        for i in DataSize:  \r\n",
    "            self.data.append(list(range(i)))\r\n",
    "        for f in funcs:\r\n",
    "            t = []\r\n",
    "            for data in self.data:\r\n",
    "                t1 = f(data)\r\n",
    "                if t1 == 0:\r\n",
    "                    t1 =default\r\n",
    "                t.append(t1)\r\n",
    "            self.time.append(t)\r\n",
    "        #print(self.time)\r\n",
    "    def plot(self):\r\n",
    "        for t in range(len(self.time)):\r\n",
    "            plt.plot(self.DataSize,self.time[t],label='f{}'.format(t+1))\r\n",
    "        plt.legend()\r\n",
    "        plt.xscale(self.scale)\r\n",
    "        plt.yscale(self.scale)"
   ]
  },
  {
   "cell_type": "markdown",
   "metadata": {},
   "source": [
    "# Python Algorithms\r\n",
    "## Chapter 2 The Basics\r\n",
    "### Some Core Ideas in Computing\r\n",
    "### Asymptotic Notation\r\n",
    "Python lists are arrays, not linked lists. "
   ]
  },
  {
   "cell_type": "code",
   "execution_count": 4,
   "metadata": {},
   "outputs": [
    {
     "data": {
      "text/plain": "'c'"
     },
     "execution_count": 4,
     "metadata": {},
     "output_type": "execute_result"
    }
   ],
   "source": [
    "class node(object): # Linked list\r\n",
    "    def __init__(self,value,nextNode=None):\r\n",
    "        self.value = value \r\n",
    "        self.next = nextNode\r\n",
    "L = node('a',node('b',node('c',node('d'))))\r\n",
    "L.next.next.value"
   ]
  },
  {
   "cell_type": "code",
   "execution_count": 28,
   "metadata": {},
   "outputs": [
    {
     "data": {
      "image/png": "[encoded data removed]",
      "text/plain": "<Figure size 432x288 with 1 Axes>"
     },
     "metadata": {
      "needs_background": "light"
     },
     "output_type": "display_data"
    }
   ],
   "source": [
    "@timer\r\n",
    "def f1(nums):  # Constant time\r\n",
    "    nums.append(1)\r\n",
    "@timer\r\n",
    "def f2(nums):  # Linear time O(n)\r\n",
    "    nums.insert(0,1)\r\n",
    "TimePlotter([f2,f1]).plot()"
   ]
  },
  {
   "cell_type": "code",
   "execution_count": 38,
   "metadata": {},
   "outputs": [
    {
     "data": {
      "image/png": "[encoded data removed]",
      "text/plain": "<Figure size 432x288 with 1 Axes>"
     },
     "metadata": {
      "needs_background": "light"
     },
     "output_type": "display_data"
    }
   ],
   "source": [
    "@timer   \r\n",
    "def f1(nums):# Linear time O(n)\r\n",
    "    s = 0\r\n",
    "    for x in nums:\r\n",
    "        s += x\r\n",
    "@timer \r\n",
    "def f2(nums):# Quadric time O(n^2), calculates the sum of all possible products\r\n",
    "    s = 0\r\n",
    "    for x in nums:\r\n",
    "        for y in nums:\r\n",
    "            s += x*y\r\n",
    "@timer \r\n",
    "def f3(nums):# Cubic time O(n^3)\r\n",
    "    s = 0\r\n",
    "    for x in nums:\r\n",
    "        for y in nums:\r\n",
    "            s += x*y\r\n",
    "        for z in nums:\r\n",
    "            for w in nums:\r\n",
    "                s += x-w\r\n",
    "TimePlotter([f1,f2,f3],DataSize=[10,100,1000],default=0.001,scale='log').plot()"
   ]
  },
  {
   "cell_type": "markdown",
   "metadata": {},
   "source": [
    "#### Three important cases\r\n",
    "### Implementing Graphs and Trees\r\n",
    "#### Adjacency Lists and the Like\r\n",
    "![](../images/python%20algorithm/1.jpg)"
   ]
  },
  {
   "cell_type": "code",
   "execution_count": 40,
   "metadata": {},
   "outputs": [
    {
     "name": "stdout",
     "output_type": "stream",
     "text": [
      "True\n",
      "3\n"
     ]
    }
   ],
   "source": [
    "a,b,c,d,e,f,g,h = range(8)\r\n",
    "N = [\r\n",
    "    {b,c,f,e,d}, #a\r\n",
    "    {e,c}, #b\r\n",
    "    {d}, #c\r\n",
    "    {e}, #d\r\n",
    "    {f},  #e\r\n",
    "    {c,g,h},  #f\r\n",
    "    {f,h},  #g\r\n",
    "    {f,g}  #h\r\n",
    "]\r\n",
    "print(b in N[a]) # neighbourhood membership\r\n",
    "print(len(N[f])) # degree"
   ]
  },
  {
   "cell_type": "markdown",
   "metadata": {},
   "source": [
    "#### Adjacency Matrices"
   ]
  },
  {
   "cell_type": "code",
   "execution_count": 42,
   "metadata": {},
   "outputs": [
    {
     "name": "stdout",
     "output_type": "stream",
     "text": [
      "inf\n",
      "5\n"
     ]
    }
   ],
   "source": [
    "a,b,c,d,e,f,g,h = range(8)\r\n",
    "inf = float('inf')\r\n",
    "#      a, b,   c,   d,   e,   f,   g,   h\r\n",
    "W = [[ 0, 2,   1,   3,   9,   4,   inf, inf], # a\r\n",
    "    [inf, 0,   4,   inf, 3,   inf, inf, inf], # b\r\n",
    "    [inf, inf, 0,   8,   inf, inf, inf, inf], # c\r\n",
    "    [inf, inf, inf, 0,   7,   inf, inf, inf], # d\r\n",
    "    [inf, inf, inf, inf, 0,   5,   inf, inf], # e\r\n",
    "    [inf, inf, 2,   inf, inf, 0,   2,   2], # f\r\n",
    "    [inf, inf, inf, inf, inf, 1,   0,   6], # g\r\n",
    "    [inf, inf, inf, inf, inf, 9,   8,   0]] # h\r\n",
    "\r\n",
    "print(W[c][e]) # Neighbourhood membership\r\n",
    "print(sum([1 for w in W[a] if w < inf])-1) #degree"
   ]
  },
  {
   "cell_type": "markdown",
   "metadata": {},
   "source": [
    "#### Implementing Trees"
   ]
  },
  {
   "cell_type": "code",
   "execution_count": 43,
   "metadata": {},
   "outputs": [
    {
     "data": {
      "text/plain": "'b'"
     },
     "execution_count": 43,
     "metadata": {},
     "output_type": "execute_result"
    }
   ],
   "source": [
    "class Tree(object): # binary tree\r\n",
    "    def __init__(self,left,right):\r\n",
    "        self.left=left\r\n",
    "        self.right = right\r\n",
    "T = Tree(Tree('a','b'),Tree('c','d'))\r\n",
    "T.left.right"
   ]
  },
  {
   "cell_type": "code",
   "execution_count": 44,
   "metadata": {},
   "outputs": [
    {
     "data": {
      "text/plain": "'c'"
     },
     "execution_count": 44,
     "metadata": {},
     "output_type": "execute_result"
    }
   ],
   "source": [
    "class Tree(object):\r\n",
    "    def __init__(self,child,next=None):\r\n",
    "        self.child = self.val = child\r\n",
    "        self.next = next\r\n",
    "T = Tree('a',Tree('b',Tree('c',Tree('d'))))\r\n",
    "T.next.next.val"
   ]
  },
  {
   "cell_type": "markdown",
   "metadata": {},
   "source": [
    "#### A Multitude of Representations\r\n",
    "### Beware of Black Boxes\r\n",
    "#### Hidden Squares\r\n",
    "#### The Trouble with Floats\r\n",
    "#### Exercises\r\n",
    "1. When constructing a multidimensional array using Python lists, you need to use `for` loops \r\n",
    "(or something equivalent, such as list comprehension). Why would it be problematic to create a \r\n",
    "10×10 array with the expression `[[0]*10]*10`?"
   ]
  },
  {
   "cell_type": "code",
   "execution_count": 46,
   "metadata": {},
   "outputs": [
    {
     "data": {
      "text/plain": "[[0, 0, 0, 3, 0, 0, 0, 0, 0, 0],\n [0, 0, 0, 3, 0, 0, 0, 0, 0, 0],\n [0, 0, 0, 3, 0, 0, 0, 0, 0, 0],\n [0, 0, 0, 3, 0, 0, 0, 0, 0, 0],\n [0, 0, 0, 3, 0, 0, 0, 0, 0, 0],\n [0, 0, 0, 3, 0, 0, 0, 0, 0, 0],\n [0, 0, 0, 3, 0, 0, 0, 0, 0, 0],\n [0, 0, 0, 3, 0, 0, 0, 0, 0, 0],\n [0, 0, 0, 3, 0, 0, 0, 0, 0, 0],\n [0, 0, 0, 3, 0, 0, 0, 0, 0, 0]]"
     },
     "execution_count": 46,
     "metadata": {},
     "output_type": "execute_result"
    }
   ],
   "source": [
    "a = [[0]*10]*10\r\n",
    "a[2][3] = 3\r\n",
    "a"
   ]
  },
  {
   "cell_type": "code",
   "execution_count": 47,
   "metadata": {},
   "outputs": [
    {
     "data": {
      "text/plain": "[[0, 0, 0, 0, 0, 0, 0, 0, 0, 0],\n [0, 0, 0, 0, 0, 0, 0, 0, 0, 0],\n [0, 0, 0, 3, 0, 0, 0, 0, 0, 0],\n [0, 0, 0, 0, 0, 0, 0, 0, 0, 0],\n [0, 0, 0, 0, 0, 0, 0, 0, 0, 0],\n [0, 0, 0, 0, 0, 0, 0, 0, 0, 0],\n [0, 0, 0, 0, 0, 0, 0, 0, 0, 0],\n [0, 0, 0, 0, 0, 0, 0, 0, 0, 0],\n [0, 0, 0, 0, 0, 0, 0, 0, 0, 0],\n [0, 0, 0, 0, 0, 0, 0, 0, 0, 0]]"
     },
     "execution_count": 47,
     "metadata": {},
     "output_type": "execute_result"
    }
   ],
   "source": [
    "a = [[0 for i in range(10)] for j in range(10)]\r\n",
    "a[2][3] = 3\r\n",
    "a"
   ]
  },
  {
   "cell_type": "markdown",
   "metadata": {},
   "source": [
    "2. Assume perhaps a bit unrealistically that allocating a block of memory takes constant time, \r\n",
    "as long as you leave it uninitialized (that is, it contains whatever arbitrary “junk” was left there the last time it was used). You want an array of $n$ integers, and you want to keep track of whether each entry is unitialized or whether it contains a number you put there. This is a check you want to be able to do in constant time for any entry. How would you do this with only constant time for initialization? And how could you use this to initialize an empty adjacency array in constant time, thereby avoiding an \r\n",
    "otherwise obligatory quadratic minimum running time?"
   ]
  },
  {
   "cell_type": "code",
   "execution_count": 56,
   "metadata": {},
   "outputs": [
    {
     "data": {
      "text/plain": "([9, 5, 9, 10, 9, 1, 1, 7, 7, 7],\n [10, 7, 0, 4, 2, 1, 9, 1, 4, 5],\n [3, 7, 2, 10, 1, 3, 3, 1, 1, 5])"
     },
     "execution_count": 56,
     "metadata": {},
     "output_type": "execute_result"
    }
   ],
   "source": [
    "import random  \r\n",
    "a = [random.randint(0,10) for i in range(10)]\r\n",
    "b = [random.randint(0,10) for i in range(10)]\r\n",
    "c = [random.randint(0,10) for i in range(10)]\r\n",
    "a,b,c  # 3 unititialized arrays"
   ]
  },
  {
   "cell_type": "code",
   "execution_count": 57,
   "metadata": {},
   "outputs": [
    {
     "data": {
      "text/plain": "([9, 5, 9, 10, 9, 1, 100, 7, 7, 7],\n [10, 7, 0, 4, 2, 1, 0, 1, 4, 5],\n [6, 7, 2, 10, 1, 3, 3, 1, 1, 5])"
     },
     "execution_count": 57,
     "metadata": {},
     "output_type": "execute_result"
    }
   ],
   "source": [
    "init = 100 #init value, it does not matter if it is an integer or an array\r\n",
    "i= 6 # initialize \r\n",
    "m = 0 #counter\r\n",
    "a[i] = init # initialize\r\n",
    "b[i] = m\r\n",
    "c[m] = i\r\n",
    "m += 1 \r\n",
    "a,b,c"
   ]
  },
  {
   "cell_type": "code",
   "execution_count": 60,
   "metadata": {},
   "outputs": [
    {
     "data": {
      "text/plain": "(True, False)"
     },
     "execution_count": 60,
     "metadata": {},
     "output_type": "execute_result"
    }
   ],
   "source": [
    "def check(i,a,b,c):# check if initialized\r\n",
    "    if b[i] < m and c[b[i]] == i: \r\n",
    "        return True\r\n",
    "    else: \r\n",
    "        return False\r\n",
    "check(6,a,b,c),check(1,a,b,c)"
   ]
  },
  {
   "cell_type": "markdown",
   "metadata": {},
   "source": [
    "3. Show that $O$ and $\\Omega$ are inverses of one another; that is, if $f$ is $O(g)$, then $g$ is $\\Omega(f)$, and vice versa.  \r\n",
    "   $f$ is $O(g)$:  \r\n",
    "   for $n \\ge n_0,f(n)\\le cg(n), c > 0$  \r\n",
    "   for $n \\ge n_0,g(n)\\ge \\dfrac{1}{c}f(n)$   \r\n",
    "   $\\therefore g$ is $\\Omega(f)$ \r\n",
    "4. Logarithms can have different bases, but algorists don’t usually care. To see why, consider the equation $\\log_b n = \\dfrac{\\log_a n}{\\log_ab}$. First, can you see why this is true? Second, why does this mean that we usually don’t worry about bases?  \r\n",
    "    $\\log_bn = t,t = b^n$  \r\n",
    "    $\\dfrac{\\log_a n}{\\log_ab} = \\dfrac{\\log_a b^t}{\\log_ab} =t$  \r\n",
    "5. Show that any increasing exponential ($\\Theta(k^n)$ for $k > 1$) asymptotically dominates any polynomial ($\\Theta(n^j)$ for $j > 1$)).  \r\n",
    "   $\\dfrac{n^j}{k^n} = t$  \r\n",
    "   $\\log_k \\dfrac{n^j}{k^n} = \\log_kt$  \r\n",
    "   $j\\log_kn -n = \\log_k t$  \r\n",
    "   $t = k^{j\\log_kn -n}$   \r\n",
    "   $j\\log_kn -n = j\\log_kn - \\log_kk^n = j\\log_k\\dfrac{n}{k^n} < j\\log_k1 =0$\r\n",
    "   $\\dfrac{d}{dn}(n-k^n) =-nk^{n-1} = 0, n = 0$  \r\n",
    "   $\\dfrac{d}{dn}(-nk^{n-1}) = -n(n-1)k^{n-2} \\le0, n \\ge1$  \r\n",
    "   $\\therefore$ for $n \\ge 1,(n-k^n)_{\\max} =1-k < 0, n < k^n$  \r\n",
    "   $\\therefore t < k^0 = 1$  \r\n",
    "   $\\dfrac{n^j}{k^n} < 1, n^j$ is $O(k^n)$"
   ]
  },
  {
   "cell_type": "markdown",
   "metadata": {},
   "source": [
    "6. Show that any polynomial (that is, Q(nk\r\n",
    "), for any constant k > 0) asymptotically dominates any \r\n",
    "logarithm (that is, Q(lg n)). (Note that the polynomials here include, for example, the square root, \r\n",
    "for k = 0.5.)\r\n",
    "2-7. Research or conjecture the asymptotic complexity of various operations on Python lists, such as \r\n",
    "indexing, item assignment, reversing, appending, and inserting (the latter two discussed in the “Black \r\n",
    "Box” sidebar on list). How would these be different in a linked list implementation? What about, \r\n",
    "for example, list.extend?\r\n",
    "2-8. Show that the expressions Q(f) + Q(g) = Q(f + g) and Q(f) · Q(g) = Q(f · g) are correct. Also, try your \r\n",
    "hand at max(Q(f), Q(g)) = Q(max(f, g)) = Q(f + g).\r\n",
    "2-9. In Appendix C, you’ll find a numbered list of statements about trees. Show that they are equivalent.\r\n",
    "2-10. Let T be an arbitrary rooted tree with at least three nodes, where each internal node has exactly \r\n",
    "two children. If T has n leaves, how many internal nodes does it have?\r\n",
    "2-11. Show that a directed acyclic graph (DAG) can have any underlying structure whatsoever. Put \r\n",
    "differently, any undirected graph can be the underlying graph for a DAG, or, given a graph, you can \r\n",
    "always orient its edges so that the resulting digraph is a DAG.\r\n",
    "2-12. Consider the following graph representation: You use a dictionary and let each key be a pair \r\n",
    "(tuple) of two nodes, with the corresponding value set to the edge weight. For example W[u, v] = 42. \r\n",
    "What would be the advantages and disadvantages of this representation? Could you supplement it to \r\n",
    "mitigate the downsides?"
   ]
  }
 ],
 "metadata": {
  "kernelspec": {
   "display_name": "Python 3.8.1 64-bit ('Python38')",
   "name": "python381jvsc74a57bd0004de6046f1b3d314f33fdb43a2dc798b2646e5600efd8df5066c8b63a00ff6d"
  },
  "language_info": {
   "name": "python",
   "version": ""
  },
  "metadata": {
   "interpreter": {
    "hash": "004de6046f1b3d314f33fdb43a2dc798b2646e5600efd8df5066c8b63a00ff6d"
   }
  },
  "orig_nbformat": 2
 },
 "nbformat": 4,
 "nbformat_minor": 2
}