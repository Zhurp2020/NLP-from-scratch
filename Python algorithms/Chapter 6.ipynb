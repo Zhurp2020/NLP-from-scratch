{
 "cells": [
  {
   "cell_type": "markdown",
   "metadata": {},
   "source": [
    "# Python algorithm\n",
    "## Chapter 6 Divide, Combine, and Conquer\n",
    "### Tree-Shaped Problems: All About the Balance\n",
    "The skyline problem: You are given a sorted sequence of triples $(L,H,R)$, where $L$ is the left $x$-coordinate of a building, $H$ is its height, and $R$ is its right $x$-coordinate. In other words, each triple represents the (rectangular) silhouette of a building, from a given vantage \n",
    "point. Your task is to construct a skyline from these individual building silhouettes.\n",
    "### The Canonical D&C Algorithm\n",
    "### Searching by Halves\n"
   ]
  },
  {
   "cell_type": "code",
   "execution_count": null,
   "metadata": {},
   "outputs": [],
   "source": []
  },
  {
   "cell_type": "markdown",
   "metadata": {},
   "source": []
  }
 ],
 "metadata": {
  "language_info": {
   "name": "python"
  },
  "orig_nbformat": 4
 },
 "nbformat": 4,
 "nbformat_minor": 2
}
