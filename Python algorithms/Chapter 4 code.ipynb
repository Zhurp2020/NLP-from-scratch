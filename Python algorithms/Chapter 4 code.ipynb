{
 "cells": [
  {
   "cell_type": "code",
   "execution_count": 28,
   "source": [
    "import time\r\n",
    "import matplotlib.pyplot as plt\r\n",
    "from random import randrange\r\n",
    "def timer(func):\r\n",
    "    def inner(*args,**kwargs):\r\n",
    "        t0 = time.time()\r\n",
    "        func(*args,**kwargs)\r\n",
    "        t1 = time.time()\r\n",
    "        return t1-t0\r\n",
    "    return inner\r\n",
    "\r\n",
    "class TimePlotter(object):\r\n",
    "    def __init__(self,funcs:list,DataSize=[1000000,10000000,100000000],RandomData = False,default = 0.001,scale='log'):\r\n",
    "        self.data = []\r\n",
    "        self.default = default\r\n",
    "        self.time = []\r\n",
    "        self.funcs = funcs\r\n",
    "        self.DataSize = DataSize\r\n",
    "        self.default = default\r\n",
    "        self.scale = scale\r\n",
    "        if RandomData:\r\n",
    "            for i in DataSize:  \r\n",
    "                self.data.append([randrange(1000000) for j in range(i)])\r\n",
    "        else:\r\n",
    "            for i in DataSize:  \r\n",
    "                self.data.append(list(range(i)))\r\n",
    "    def execute(self):\r\n",
    "        for f in self.funcs:\r\n",
    "            t = []\r\n",
    "            for data in self.data:\r\n",
    "                t1 = f(data)\r\n",
    "                if t1 == 0:\r\n",
    "                    t1 =self.default\r\n",
    "                t.append(t1)\r\n",
    "            self.time.append(t)\r\n",
    "        #print(self.time)\r\n",
    "    def plot(self):\r\n",
    "        self.execute()\r\n",
    "        for t in range(len(self.time)):\r\n",
    "            plt.plot(self.DataSize,self.time[t],label='f{}'.format(t+1))\r\n",
    "        plt.legend()\r\n",
    "        plt.xscale(self.scale)\r\n",
    "        plt.yscale(self.scale)"
   ],
   "outputs": [],
   "metadata": {}
  },
  {
   "cell_type": "markdown",
   "source": [
    "# Python algorithms\r\n",
    "## Chapter 4 Induction and Recursion and Reduction\r\n",
    "+ Reduction means transforming one problem to another. We normally reduce an unknown problem to one we know how to solve. The reduction may involve transforming both the input and the output\r\n",
    "+ Induction, or mathematical induction, is used to show that a statement is true for a large class of objects. We do this by first showing it to be true for a base case  and then showing that it “carries over” from one object to the next; for example, if it’s true for $n–1$, then it’s true for $n$\r\n",
    "+ Recursion is what happens when a function calls itself. Here we need to make sure the function works correctly for a base case and that it combines results from the recursive calls into a valid solution.\r\n",
    "### Oh, That’s Easy!\r\n",
    "\r\n",
    "Find the two (nonidentical) numbers that are closest to each other (that is, the two with the smallest absolute difference)"
   ],
   "metadata": {}
  },
  {
   "cell_type": "code",
   "execution_count": 11,
   "source": [
    "@timer\r\n",
    "def f1(seq):\r\n",
    "    dmax = float('inf')# Brute force, o(n^2)\r\n",
    "    for x in seq:\r\n",
    "        for y in seq:\r\n",
    "            if x == y :\r\n",
    "                continue\r\n",
    "            diff = abs(x-y)\r\n",
    "            if diff < dmax:\r\n",
    "                x1 = x\r\n",
    "                y1 = y\r\n",
    "                dmax  = diff\r\n",
    "    print(x1,y1)\r\n",
    "@timer  # Sorting before check, O(n lg n)\r\n",
    "def f2(seq):\r\n",
    "    seq.sort()\r\n",
    "    dmax = float('inf')\r\n",
    "    for i in range(len(seq)-1):\r\n",
    "        if seq[i] == seq[i+     1]:\r\n",
    "            continue\r\n",
    "        diff = abs(seq[i]-seq[i+1])\r\n",
    "        if diff < dmax:\r\n",
    "                x1 = seq[i]\r\n",
    "                y1 = seq[i+1]\r\n",
    "                dmax  = diff\r\n",
    "    print(x1,y1)\r\n",
    "TimePlotter([f1,f2],DataSize=[100,1000,10000],RandomData=True).plot()\r\n"
   ],
   "outputs": [
    {
     "output_type": "stream",
     "name": "stdout",
     "text": [
      "108742 108808\n",
      "906367 906366\n",
      "250281 250280\n",
      "108742 108808\n",
      "676817 676818\n",
      "10838 10839\n"
     ]
    },
    {
     "output_type": "display_data",
     "data": {
      "image/png": "[encoded data removed]",
      "text/plain": [
       "<Figure size 432x288 with 1 Axes>"
      ]
     },
     "metadata": {
      "needs_background": "light"
     }
    }
   ],
   "metadata": {}
  },
  {
   "cell_type": "markdown",
   "source": [
    "### One, Two, Many\r\n",
    "![](../images/python%20algorithm/3.jpg)"
   ],
   "metadata": {}
  },
  {
   "cell_type": "code",
   "execution_count": 31,
   "source": [
    "def cover(board,lab=1,top=0,left=0,side=None):\r\n",
    "    if side == None:\r\n",
    "        side = len(board)\r\n",
    "\r\n",
    "    s = side //2 # subboard size, for next recursion\r\n",
    "    # coordinates of corners of the big board, in (y,x), relative to the big board\r\n",
    "    corners = [(0,0),(0,side-1),(side-1,0),(side-1,side-1)]\r\n",
    "    # coordinates of subboard, at the opposite corner of the big corner \r\n",
    "    SubCorners = [(s-1,s-1),(s-1,s),(s,s-1),(s,s)]\r\n",
    "    for i in range(4):\r\n",
    "        # If the big board corner is not assigned\r\n",
    "        if not board[top+corners[i][0]][left+corners[i][1]]: \r\n",
    "            board[top+SubCorners[i][0]][left+SubCorners[i][1]] = lab # mark the subboard corner\r\n",
    "    lab += 1\r\n",
    "    if s > 1: # s min = 2\r\n",
    "        origins = [(0,0),(s,0),(0,s),(s,s)] # Coordinates of origin points\r\n",
    "        for (y,x) in origins:\r\n",
    "            lab = cover(board,lab,top+y,left+x,s)\r\n",
    "    return lab\r\n",
    "board = [[0]*8 for i in range(8)]\r\n",
    "board[7][0] = -1 # missing corner\r\n",
    "cover(board)\r\n",
    "for row in board:\r\n",
    "    print((\" %2i\"*8) % tuple(row))"
   ],
   "outputs": [
    {
     "output_type": "stream",
     "name": "stdout",
     "text": [
      "  3  3  5  5 13 13 15 15\n",
      "  3  2  2  5 13 12 12 15\n",
      "  4  2  6  6 14 14 12 16\n",
      "  4  4  6  1  1 14 16 16\n",
      "  8  8 10 10  1 18 20 20\n",
      "  8  7  7 10 18 18 17 20\n",
      "  9  9  7 11 19 17 17 21\n",
      " -1  9 11 11 19 19 21 21\n"
     ]
    }
   ],
   "metadata": {}
  },
  {
   "cell_type": "markdown",
   "source": [
    "### Mirror, Mirror"
   ],
   "metadata": {}
  },
  {
   "cell_type": "code",
   "execution_count": 60,
   "source": [
    "seq = [randrange(1000) for i in range(30)]"
   ],
   "outputs": [],
   "metadata": {}
  },
  {
   "cell_type": "code",
   "execution_count": 44,
   "source": [
    "# Recrusion innsertion sort\r\n",
    "def ReInsertSort(seq,i):\r\n",
    "    if i == 0 : # base case\r\n",
    "        return seq\r\n",
    "    l = ReInsertSort(seq,i-1)\r\n",
    "    j = i-1\r\n",
    "    while j >=0:\r\n",
    "        if l[j] > l[j+1]:\r\n",
    "            l[j],l[j+1] = l[j+1],l[j]\r\n",
    "        j -= 1\r\n",
    "    return l\r\n",
    "print(ReInsertSort(seq,len(seq)-1))"
   ],
   "outputs": [
    {
     "output_type": "stream",
     "name": "stdout",
     "text": [
      "[18, 44, 67, 152, 155, 176, 234, 295, 303, 351, 388, 502, 555, 601, 604, 638, 680, 697, 730, 735, 767, 790, 812, 880, 909, 933, 941, 946, 952, 985]\n"
     ]
    }
   ],
   "metadata": {}
  },
  {
   "cell_type": "code",
   "execution_count": 50,
   "source": [
    "# Insertion sort, no recursion\r\n",
    "def InsertSort(seq):\r\n",
    "    for i in range(len(seq)):\r\n",
    "        j = i-1\r\n",
    "        while j >=0:\r\n",
    "            if seq[j] > seq[j+1]:\r\n",
    "                seq[j],seq[j+1] = seq[j+1],seq[j]\r\n",
    "            j -= 1\r\n",
    "    return seq \r\n",
    "print(InsertSort(seq))"
   ],
   "outputs": [
    {
     "output_type": "stream",
     "name": "stdout",
     "text": [
      "[49, 54, 73, 102, 159, 167, 198, 218, 223, 315, 325, 450, 559, 563, 587, 629, 641, 641, 687, 754, 784, 804, 888, 895, 898, 918, 920, 947, 956, 960]\n"
     ]
    }
   ],
   "metadata": {}
  },
  {
   "cell_type": "code",
   "execution_count": 59,
   "source": [
    "# Selection sort with recursion\r\n",
    "def ReSelSort(seq,i):\r\n",
    "    if i == 0:\r\n",
    "        return seq\r\n",
    "    Maxi = i\r\n",
    "    for j in range(i):\r\n",
    "        if seq[j] >seq[Maxi] :\r\n",
    "            Maxi = j\r\n",
    "    seq[i],seq[Maxi] = seq[Maxi],seq[i]\r\n",
    "    seq = ReSelSort(seq,i-1)\r\n",
    "    return seq\r\n",
    "print(ReSelSort(seq,len(seq)-1))"
   ],
   "outputs": [
    {
     "output_type": "stream",
     "name": "stdout",
     "text": [
      "[94, 104, 112, 142, 165, 168, 178, 321, 380, 445, 455, 487, 516, 596, 603, 611, 616, 633, 639, 651, 768, 816, 871, 886, 901, 913, 964, 995, 997, 998]\n"
     ]
    }
   ],
   "metadata": {}
  },
  {
   "cell_type": "code",
   "execution_count": 62,
   "source": [
    "# Selection sort without recursion\r\n",
    "def SelSort(seq):\r\n",
    "    for i in range(len(seq)-1,-1,-1):\r\n",
    "        Maxi = i\r\n",
    "        for j in range(i):\r\n",
    "            if seq[j] >seq[Maxi] :\r\n",
    "                Maxi = j\r\n",
    "        seq[i],seq[Maxi] = seq[Maxi],seq[i]\r\n",
    "    return seq\r\n",
    "print(SelSort(seq))"
   ],
   "outputs": [
    {
     "output_type": "stream",
     "name": "stdout",
     "text": [
      "[28, 40, 52, 60, 79, 81, 179, 258, 259, 366, 373, 397, 440, 456, 507, 507, 542, 549, 583, 591, 658, 664, 766, 773, 878, 903, 928, 963, 974, 993]\n"
     ]
    }
   ],
   "metadata": {}
  },
  {
   "cell_type": "markdown",
   "source": [
    "### Designing with Induction (and Recursion)\r\n",
    "#### Finding a Maximum Permutation\r\n",
    "Eight persons with very particular tastes have bought tickets to the movies. Some of them are happy with their seats, but most of them are not. Let’s say each of them has a favorite seat, and you want to find a way to let them switch seats to make as many people as possible happy with the result. However, all of them refuse to move to another seat if they can’t get their favorite.  \r\n",
    "This is a form of matching problem. We can model the problem  as a graph. The edges point from where people are currently sitting to where they want to sit\r\n",
    "![](../images/python%20algorithm/4.jpg)"
   ],
   "metadata": {}
  },
  {
   "cell_type": "code",
   "execution_count": 68,
   "source": [
    "M = [2,2,0,5,3,5,7,4]\r\n",
    "# Our target is to remove the elements that are not pointed to"
   ],
   "outputs": [],
   "metadata": {}
  },
  {
   "cell_type": "code",
   "execution_count": 78,
   "source": [
    "def ReMaxPerm(M,A = None):\r\n",
    "    if A == None:\r\n",
    "        A = set(range(len(M)))\r\n",
    "    if len(A) == 1:\r\n",
    "        return A\r\n",
    "    B = set(M[i] for i in A) # pointed to\r\n",
    "    C = A - B # not pointed to\r\n",
    "    if C:\r\n",
    "        A.remove(C.pop())\r\n",
    "        return ReMaxPerm(M,A)   # Removing one will cause new empty element\r\n",
    "    return A\r\n",
    "print(ReMaxPerm(M))"
   ],
   "outputs": [
    {
     "output_type": "stream",
     "name": "stdout",
     "text": [
      "{0, 2, 5}\n"
     ]
    }
   ],
   "metadata": {}
  },
  {
   "cell_type": "code",
   "execution_count": 75,
   "source": [
    "# iterative, linear time\r\n",
    "def MaxPerm(M):\r\n",
    "    n = len(M)\r\n",
    "    A = set(range(n))\r\n",
    "    count = [0 for i in range(n)] \r\n",
    "    for i in M:\r\n",
    "        count[i] += 1\r\n",
    "    Q = [i for i in range(n) if count[i] ==0] #counting\r\n",
    "    while Q:\r\n",
    "        a = Q.pop()\r\n",
    "        A.remove(a)\r\n",
    "        count[M[a]] -= 1  # reduce edge number\r\n",
    "        if count[M[a]] == 0: #check for new empty ones\r\n",
    "            Q.append(M[a])\r\n",
    "    return A\r\n",
    "MaxPerm(M) "
   ],
   "outputs": [
    {
     "output_type": "execute_result",
     "data": {
      "text/plain": [
       "{0, 2, 5}"
      ]
     },
     "metadata": {},
     "execution_count": 75
    }
   ],
   "metadata": {}
  },
  {
   "cell_type": "markdown",
   "source": [
    "#### The Celebrity Problem\r\n",
    "In the celebrity problem, you’re looking for a celebrity in a crowd. The idea is as follows: The celebrity knows no one, but everyone knows the celebrity."
   ],
   "metadata": {}
  },
  {
   "cell_type": "code",
   "execution_count": 122,
   "source": [
    "G = [[randrange(2) for i in range(100)] for i in range(100)]\r\n",
    "c = 99\r\n",
    "for i in range(100):\r\n",
    "    G[i][c] = 1\r\n",
    "    G[c][i] = 0\r\n",
    "c"
   ],
   "outputs": [
    {
     "output_type": "execute_result",
     "data": {
      "text/plain": [
       "99"
      ]
     },
     "metadata": {},
     "execution_count": 122
    }
   ],
   "metadata": {}
  },
  {
   "cell_type": "code",
   "execution_count": 123,
   "source": [
    "def BruteCele(G): # Brute force\r\n",
    "    for i in range(len(G)):\r\n",
    "        for j in range(len(G)):\r\n",
    "            if i == j:\r\n",
    "                continue\r\n",
    "            if G[i][j]:\r\n",
    "                break\r\n",
    "            if not G[j][i]:\r\n",
    "                break\r\n",
    "        else:\r\n",
    "            return i\r\n",
    "    return 'No'\r\n",
    "BruteCele(G)"
   ],
   "outputs": [
    {
     "output_type": "execute_result",
     "data": {
      "text/plain": [
       "99"
      ]
     },
     "metadata": {},
     "execution_count": 123
    }
   ],
   "metadata": {}
  },
  {
   "cell_type": "code",
   "execution_count": 124,
   "source": [
    "def cele(G): # linear time\r\n",
    "    n = len(G)\r\n",
    "    i,j = 0,1\r\n",
    "    for c in range(2,n+1):\r\n",
    "        if G[i][j]: # then i is not celebrity,j becomes candidate\r\n",
    "            i = j\r\n",
    "            j = c \r\n",
    "        else:  # then j is not celebrity, i is still candidate\r\n",
    "            j = c \r\n",
    "    for c in range(n): # check if i is celebrity\r\n",
    "        if G[c][i]:\r\n",
    "            continue\r\n",
    "        if c == i:\r\n",
    "            continue\r\n",
    "        if not G[c][i]:\r\n",
    "            return 'No'\r\n",
    "    return i\r\n",
    "cele(G)"
   ],
   "outputs": [
    {
     "output_type": "execute_result",
     "data": {
      "text/plain": [
       "99"
      ]
     },
     "metadata": {},
     "execution_count": 124
    }
   ],
   "metadata": {}
  },
  {
   "cell_type": "markdown",
   "source": [
    "#### Topological Sorting\r\n",
    "In almost any project, the tasks to be undertaken will have dependencies that partially restrict their ordering. Such dependencies are easily represented as a directed acyclic graph (DAG), and finding an ordering that respect the dependencies is called topological sorting.  \r\n",
    "![](../images/python%20algorithm/5.jpg)"
   ],
   "metadata": {}
  },
  {
   "cell_type": "code",
   "execution_count": 54,
   "source": [
    "M = {\r\n",
    "    'e':['f'],\r\n",
    "    'a':['b','f'],\r\n",
    "    'b':['c','f','d'],\r\n",
    "    'd':['e','f'],\r\n",
    "    'c':['d'],\r\n",
    "    'f':[]}"
   ],
   "outputs": [],
   "metadata": {}
  },
  {
   "cell_type": "code",
   "execution_count": 55,
   "source": [
    "def ReTopSort(G,S=None): # brute force recrusion, O(n^2), incorrect\r\n",
    "    if S == None:\r\n",
    "        S= set(G)\r\n",
    "    if len(S) == 1:\r\n",
    "        return list(S) #base case\r\n",
    "    n = S.pop() #pop a node\r\n",
    "    seq = ReTopSort(G,S)\r\n",
    "    mini = 0\r\n",
    "    for i,node in enumerate(seq):\r\n",
    "        if n in G[node]: # check for dependency\r\n",
    "            mini = i+1\r\n",
    "    seq.insert(mini,n)\r\n",
    "    return seq\r\n",
    "print(ReTopSort(M))\r\n"
   ],
   "outputs": [
    {
     "output_type": "stream",
     "name": "stdout",
     "text": [
      "['c', 'a', 'b', 'd', 'e', 'f']\n"
     ]
    }
   ],
   "metadata": {}
  },
  {
   "cell_type": "code",
   "execution_count": 85,
   "source": [
    "def topsort(G):  # removing the correct node, linear time\r\n",
    "    count = dict((n,0) for n in G)\r\n",
    "    for n in G:\r\n",
    "        for v in G[n]:\r\n",
    "            count[v] += 1\r\n",
    "    Q = [n for n in G if count[n] ==0]\r\n",
    "    S = []\r\n",
    "    while Q:\r\n",
    "        a = Q.pop() # remove 0 in-degree\r\n",
    "        S.append(a)\r\n",
    "        for n in G[a]:\r\n",
    "            count[n] -= 1 # update count\r\n",
    "            if count[n] == 0:\r\n",
    "                Q.append(n)\r\n",
    "    return S\r\n",
    "topsort(M)"
   ],
   "outputs": [
    {
     "output_type": "execute_result",
     "data": {
      "text/plain": [
       "['a', 'b', 'c', 'd', 'e', 'f']"
      ]
     },
     "metadata": {},
     "execution_count": 85
    }
   ],
   "metadata": {}
  },
  {
   "cell_type": "markdown",
   "source": [
    "### Stronger Assumptions\r\n",
    "+ A balance factor is defined for each internal node and is set to the difference between the heights of the left and right subtrees, where height is the greatest distance from the node (downward) to a leaf\r\n",
    "### Invariants and Correctness\r\n",
    "+ A loop invariant is something that is true after each iteration of a loop, given some preconditions; it’s called an invariant because it doesn’t vary\r\n",
    "### Relaxation and Gradual Improvement\r\n",
    "+ The term has been picked up by algorists and is used to describe the crucial step in several algorithms, particularly shortest-path algorithms based on dynamic programming, where we gradually improve our approximations to the optimum\r\n",
    "### Reduction + Contraposition = Hardness Proof\r\n",
    "+ The hardness proofs are based on the fact that we only allow easy (that is, fast) reductions. Let’s say you’re able to reduce problem A to B . We then know that if B is easy, A must be easy as well. That follows directly from the fact that we can use B, along with an easy reduction, to solve A.\r\n",
    "+ If you can reduce A to B, then B is at least as hard as A.\r\n",
    "+ If you want to show that X is hard and you know that Y is hard, reduce Y to X\r\n",
    "### Problem Solving Advice\r\n",
    "### Exercise\r\n",
    "1. A graph that you can draw in the plane without any edges crossing each other is called planar. Such a drawing will have a number of regions, areas bounded by the edges of the graph, as well as the (infinitely large) area around the graph. If the graph has $V, E,$ and $F$ nodes, edges, and regions, respectively, Euler’s formula for connected planar graphs says that $V – E + F = 2$. Prove that this is correct using induction.\r\n",
    "   For 2 nodes: $V – E + F = 2-2+2 = 2$  \r\n",
    "   For $n$ nodes: $V – E + F = n-E+F = 2$  \r\n",
    "   add 1 node: $n+1-(E+\\Delta E)+(F+\\Delta F), \\Delta E -1 = \\Delta F, n+1-(E+\\Delta E)+(F+\\Delta F)=2$\r\n",
    "2. Consider a plate of chocolate, consisting of $n$ squares in a rectangular arrangement. You want to break it into individual squares, and the only operation you’ll use is breaking one of the current rectangles (there will be more, once you start breaking) into two pieces. What is the most efficient way of doing this?    \r\n",
    "   Break the chocolate at $k$: one piece A of $k$, one piece B of $n-k$ squares  \r\n",
    "   Hypothesis: Break any chocolate cost $n-1$ ops  \r\n",
    "   break A: $k-1$, break B: $n-k-1$  \r\n",
    "   Break the whole: $k-1+n-k-1+1=n-1$  \r\n",
    "3. Let’s say you’re going to invite some people to a party. You’re considering $n$ friends, but you know that they will have a good time only if each of them knows at least $k$ others at the party. (Assume that if A knows B, then B automatically knows A.) Solve your problem by designing an algorithm for finding the largest possible subset of your friends where everyone knows at least $k$ of the others, if such a subset exists.  \r\n",
    "Bonus question: If your friends know $d$ others in the group on average and at least one person knows at least one other, show that you can always find a (nonempty) solution for $k \\le \\dfrac{d}{2}$.\r\n",
    "   bonus: edges/nodes $= \\dfrac{d}{2} = \\dfrac{\\frac{2E}{N}}{2}$  \r\n",
    "   delete the node, the ratio will not decrease, the result is nonempty"
   ],
   "metadata": {}
  },
  {
   "cell_type": "code",
   "execution_count": 24,
   "source": [
    "M = {\r\n",
    "    'a':['b','c','d','e','f','g'],\r\n",
    "    'b':['a','g'],\r\n",
    "    'c':['a','d','f','g'],\r\n",
    "    'd':['a','c','e','g'],\r\n",
    "    'e':['a','d','f'],\r\n",
    "    'f':['a','c','e'],\r\n",
    "    'g':['a','c','d','b']}"
   ],
   "outputs": [],
   "metadata": {}
  },
  {
   "cell_type": "code",
   "execution_count": 34,
   "source": [
    "def FindFir(G,k=3):\r\n",
    "    count = dict((f,len(G[f])) for f in G) \r\n",
    "    Q = [i for i in G if count[i] < k] # people who know less than k is not in the solution\r\n",
    "    S = list(G)\r\n",
    "    while Q:\r\n",
    "        LonelyF = Q.pop()\r\n",
    "        S.remove(LonelyF)  \r\n",
    "        for f in S:\r\n",
    "            if LonelyF in G[f]:\r\n",
    "                count[f] -= 1  # update count\r\n",
    "                if count [f] <k:\r\n",
    "                    Q.append(f)\r\n",
    "    return S\r\n",
    "print(FindFir(M))"
   ],
   "outputs": [
    {
     "output_type": "stream",
     "name": "stdout",
     "text": [
      "['a', 'c', 'd', 'e', 'f', 'g']\n"
     ]
    }
   ],
   "metadata": {}
  },
  {
   "cell_type": "markdown",
   "source": [
    "4. A node is called central if the greatest (unweighted) distance from that node to any other in the same graph is minimum. That is, if you sort the nodes by their greatest distance to any other node, the central nodes will be at the beginning. Explain why an unrooted tree has either one or two central nodes, and describe an algorithm for finding them.  \r\n"
   ],
   "metadata": {}
  },
  {
   "cell_type": "code",
   "execution_count": 6,
   "source": [
    "T = {'a':['b','f'],\r\n",
    "    'b':['a','c','d'],\r\n",
    "    'c':['b'],\r\n",
    "    'd':['b'],\r\n",
    "    'f':['a','e'],\r\n",
    "    'e':['f']}\r\n",
    "T2 = {'a':['b'],\r\n",
    "    'b':['a','c'],\r\n",
    "    'c':['b','d'],\r\n",
    "    'd':['c']}"
   ],
   "outputs": [],
   "metadata": {}
  },
  {
   "cell_type": "code",
   "execution_count": 9,
   "source": [
    "def cen(T):\r\n",
    "    if len(T) == 1 or len(T) == 2:\r\n",
    "        return list(T) #the nodes are all central\r\n",
    "    count = dict((n,len(T[n])) for n in T)\r\n",
    "    leaves = [n for n in T if count[n] ==1 ] #leaf can never be central\r\n",
    "    C = list(T)\r\n",
    "    T= dict((n,T[n]) for n in T if not n in leaves)\r\n",
    "    while leaves:\r\n",
    "        leaf = leaves.pop()\r\n",
    "        for n in T:\r\n",
    "            if leaf in T[n]:\r\n",
    "                T[n].remove(leaf)\r\n",
    "    return cen(T)\r\n",
    "cen(T2)"
   ],
   "outputs": [
    {
     "output_type": "execute_result",
     "data": {
      "text/plain": [
       "['b', 'c']"
      ]
     },
     "metadata": {},
     "execution_count": 9
    }
   ],
   "metadata": {}
  },
  {
   "cell_type": "markdown",
   "source": [
    "5. Remember the knights in Chapter 3? After their first tournament, which was a round-robin \r\n",
    "tournament, where each knight jousted one of the other, the staff want to create a ranking. They realize it might not be possible to create a unique ranking or even a proper topological sorting (because there may be cycles of knights defeating each other), but they have decided on the following solution: order the knights in a sequence $K_1, K_2, ... , K_n,$ where $K_1$ defeated $K_2$, $K_2$ defeated $K_3$, and so forth ($K_{i–1}$ defeated $K_i$, for $i=2...n$). Prove that it is always possible to construct such a sequence by designing an algorithm that builds it."
   ],
   "metadata": {}
  },
  {
   "cell_type": "code",
   "execution_count": 26,
   "source": [
    "K = [\r\n",
    "    [-1,1 ,1 ,1  ,1],\r\n",
    "    [0 ,-1,0 ,1  ,0],\r\n",
    "    [0 ,1 ,-1, 0 ,1],\r\n",
    "    [0 ,0 ,1 ,-1 ,1],\r\n",
    "    [0 ,1 ,0,0  ,-1]\r\n",
    "]"
   ],
   "outputs": [],
   "metadata": {}
  },
  {
   "cell_type": "code",
   "execution_count": 27,
   "source": [
    "def tour(K,i):\r\n",
    "    if i == 1: # base case\r\n",
    "        return [K[0]]\r\n",
    "    s = tour(K[-(i-1):],i-1)\r\n",
    "    for j in range(len(s)):\r\n",
    "        win = K[0][s[j].index(-1)] #find the right place\r\n",
    "        if win == 1:\r\n",
    "            s.insert(j,K[0])\r\n",
    "            return s\r\n",
    "    s.append(K[0])\r\n",
    "    return s\r\n",
    "for i in tour(K,5):\r\n",
    "    print('K{},'.format(i.index(-1)+1),end='')"
   ],
   "outputs": [
    {
     "output_type": "stream",
     "name": "stdout",
     "text": [
      "K1,K2,K4,K3,K5,"
     ]
    }
   ],
   "metadata": {}
  },
  {
   "cell_type": "markdown",
   "source": [
    "6. George Pólya (the author of How to Solve It; see the “References” section) came up with the following entertaining (and intentionally fallacious) “proof” that all horses have the same color. If you have only a single horse, then there’s clearly only one color (the base case). Now we want to prove that $n$ horses have the same color, under the inductive hypothesis that all sets of $n–1$ horses do. Consider the sets ${1, 2, ... , n–1}$ and ${2, 3, ... , n}$. These are both of size $n–1$, so in each set, there is only one color. However, because the sets overlap, the same must be true for ${1, 2, ... n}$. Where’s the error in this argument?  \\\r\n",
    "   The hypothesis is invalid, for $n=2$\r\n",
    "7. In the example early in the section “One, Two, Many,” where we wanted to show how many \r\n",
    "internal nodes a binary tree with $n$ leaves had, instead of “building up” from $n–1$ to $n$, we started with $n$ nodes and deleted one leaf and one internal node. Why was that OK?  \r\n",
    "    It holds for any tree.\r\n",
    "8. Use the standard rules from Chapter 2 and the recurrences from Chapter 3 and show that the \r\n",
    "running times of the four sorting algorithms in Listings 4-1 through 4-4 are all quadratic.   \r\n",
    "   Recursive insertion: $T(n)=T(n-1)+n, O(n^2)$   \r\n",
    "   non recursive: two loops, $O(n^2)$  \r\n",
    "   Similarly, selection sort is $O(n^2)$ \r\n",
    "9. In finding a maximum permutation recursively (such as in Listing 4-5), how can we be sure that the permutation we end up with contains at least one person? Shouldn’t it be possible, in theory, to remove everyone?   \r\n",
    "    The base case is specified.   \r\n",
    "10. Show that the naïve algorithm for finding the maximum permutation (Listing 4-5) is quadratic.  \r\n",
    "    $T(n)=T(n-1)+n, O(n^2)$\r\n",
    "11. Implement radix sort."
   ],
   "metadata": {}
  },
  {
   "cell_type": "code",
   "execution_count": 47,
   "source": [
    "l =[randrange(1000,9999) for i in range(50)]"
   ],
   "outputs": [],
   "metadata": {}
  },
  {
   "cell_type": "code",
   "execution_count": 48,
   "source": [
    "def RadSort(seq,leng = 4):\r\n",
    "    for i in range(leng):\r\n",
    "        res = []\r\n",
    "        for d in range(10):\r\n",
    "            for n in seq:\r\n",
    "                if int(str(n)[-(i+1)]) == d:\r\n",
    "                    res.append(n)\r\n",
    "        seq = res\r\n",
    "    return res\r\n",
    "print(RadSort(l))\r\n"
   ],
   "outputs": [
    {
     "output_type": "stream",
     "name": "stdout",
     "text": [
      "[1001, 1027, 1250, 1485, 1631, 1920, 2062, 2140, 2157, 2611, 2976, 2978, 3072, 3436, 3510, 3593, 3798, 3973, 3978, 4007, 4208, 4273, 4320, 4457, 4557, 4836, 4851, 4883, 4949, 4964, 5056, 5093, 5570, 5791, 5837, 6019, 6022, 6483, 7181, 7261, 7349, 8270, 8659, 8735, 8919, 9130, 9516, 9583, 9794, 9975]\n"
     ]
    }
   ],
   "metadata": {}
  },
  {
   "cell_type": "markdown",
   "source": [
    "12. Implement bucket sort.\r\n"
   ],
   "metadata": {}
  },
  {
   "cell_type": "code",
   "execution_count": 50,
   "source": [
    "def BuckSort(seq,start = 1000,end =10000,inter=1000):\r\n",
    "    res = []\r\n",
    "    buckets = [[i,i+inter-1] for i in range(start,end,inter)]\r\n",
    "    for n in seq:\r\n",
    "        for b in buckets:\r\n",
    "            if b[0] <= n <= b[1]:\r\n",
    "                b.append(n)\r\n",
    "                break\r\n",
    "    for b in buckets:\r\n",
    "        b.sort()\r\n",
    "        for n in b[1:-1]:\r\n",
    "            res.append(n)\r\n",
    "    return res\r\n",
    "print(BuckSort(l))"
   ],
   "outputs": [
    {
     "output_type": "stream",
     "name": "stdout",
     "text": [
      "[1001, 1027, 1250, 1485, 1631, 1920, 2062, 2140, 2157, 2611, 2976, 2978, 3072, 3436, 3510, 3593, 3798, 3973, 3978, 4007, 4208, 4273, 4320, 4457, 4557, 4836, 4851, 4883, 4949, 4964, 5056, 5093, 5570, 5791, 5837, 6019, 6022, 6483, 7181, 7261, 7349, 8270, 8659, 8735, 8919, 9130, 9516, 9583, 9794, 9975]\n"
     ]
    }
   ],
   "metadata": {}
  },
  {
   "cell_type": "markdown",
   "source": [
    "13. For numbers (or strings or sequences) with a fixed number of digits (or characters or elements), $d$, radix sort has a running time of $\\Theta(dn)$. Let’s say you are sorting number whose digit counts vary greatly. A standard radix sort would require you to set $d$ to the maximum of these, padding the rest with initial zeros. If, for example, a single number had a lot more digits than all the others, this wouldn’t be very efficient. How could you modify the algorithm to have a running time of $\\Theta(\\sum d_i)$, where $d_i$ is the digit count of the  $i$ th number?  \r\n",
    "    Sort the numbers by digit number, then radix sort on each digit number\r\n",
    "\r\n",
    "14. How could you sort $n$ numbers in the value range $1...n^2$ in $\\Theta(n)$ time?    \r\n",
    "    Represent the number in another number system. Two digits, each in range $[0,n)$  \r\n",
    "15. When finding in-degrees in the maximum permutation problem, why could the count array \r\n",
    "simply be set to `[M.count(i) for i in range(n)]`?   \r\n",
    "    list comprehension is quadric\r\n",
    "16. The section “Designing with Induction (and Recursion)” describes solutions to three problems. Compare the naïve and final versions of the algorithms experimentally.\r\n",
    "17. Explain why `naive_topsort` is correct; why is it correct to insert the last node directly after its dependencies?  \r\n",
    "    It is incorrect. The dependencies are not fully checked.  \r\n",
    "18. Write a function for generating random DAGs. Write an automatic test that checks that `topsort`gives a valid orderings, using your DAG generator.\r\n"
   ],
   "metadata": {}
  },
  {
   "cell_type": "code",
   "execution_count": 95,
   "source": [
    "import random\r\n",
    "def gen():\r\n",
    "    source = ['a','b','c','d','e','f','g','h']\r\n",
    "    random.shuffle(source)  \r\n",
    "    dag = dict((n,[]) for n in source)\r\n",
    "    for i in range(7):\r\n",
    "        for j in range(i+1,8):\r\n",
    "            edge = randrange(2) \r\n",
    "            if edge:  \r\n",
    "                dag[source[i]].append(source[j])\r\n",
    "    return dag\r\n",
    "def test(func,dag= None):\r\n",
    "    if dag == None:\r\n",
    "        dag = gen()\r\n",
    "    sortDAG = func(dag)\r\n",
    "    print(dag)\r\n",
    "    print(sortDAG)\r\n",
    "    for n in sortDAG[1:]:\r\n",
    "        for s in dag:\r\n",
    "            if n in dag[s]:\r\n",
    "                if sortDAG.index(s) > sortDAG.index(n):\r\n",
    "                    return 'Wrong'\r\n",
    "    return 'Correct'\r\n",
    "a = gen()\r\n",
    "test(topsort,a)"
   ],
   "outputs": [
    {
     "output_type": "stream",
     "name": "stdout",
     "text": [
      "{'e': ['h', 'f', 'c'], 'g': ['h', 'd', 'a', 'c'], 'h': ['f', 'a', 'c'], 'f': ['d', 'a'], 'd': [], 'b': ['c'], 'a': [], 'c': []}\n",
      "['b', 'g', 'e', 'h', 'c', 'f', 'a', 'd']\n"
     ]
    },
    {
     "output_type": "execute_result",
     "data": {
      "text/plain": [
       "'Correct'"
      ]
     },
     "metadata": {},
     "execution_count": 95
    }
   ],
   "metadata": {}
  },
  {
   "cell_type": "markdown",
   "source": [
    "19. Redesign `topsort` so it selects the last node in each iteration, rather than the first."
   ],
   "metadata": {}
  },
  {
   "cell_type": "code",
   "execution_count": 100,
   "source": [
    "def topsort2(G):  # removing the correct node, linear time\r\n",
    "    count = dict((n,len(G[n])) for n in G)\r\n",
    "    Q = [n for n in G if count[n] ==0] # count for outward edge\r\n",
    "    S = []\r\n",
    "    while Q:\r\n",
    "        a = Q.pop() # remove 0 out-degree\r\n",
    "        S.insert(0,a)\r\n",
    "        for n in G:\r\n",
    "            if a in G[n]:\r\n",
    "                count[n] -= 1 # update count\r\n",
    "                if count[n] == 0:\r\n",
    "                    Q.append(n)\r\n",
    "    return S           \r\n",
    "test(topsort2,a) "
   ],
   "outputs": [
    {
     "output_type": "stream",
     "name": "stdout",
     "text": [
      "{'e': ['h', 'f', 'c'], 'g': ['h', 'd', 'a', 'c'], 'h': ['f', 'a', 'c'], 'f': ['d', 'a'], 'd': [], 'b': ['c'], 'a': [], 'c': []}\n",
      "['e', 'g', 'h', 'f', 'd', 'a', 'b', 'c']\n"
     ]
    },
    {
     "output_type": "execute_result",
     "data": {
      "text/plain": [
       "'Correct'"
      ]
     },
     "metadata": {},
     "execution_count": 100
    }
   ],
   "metadata": {}
  },
  {
   "cell_type": "markdown",
   "source": [
    "20. Implement the algorithm for finding balance factors in a binary tree.  \r\n",
    "    ![](../images/python%20algorithm/6.jpg)\r\n"
   ],
   "metadata": {}
  },
  {
   "cell_type": "code",
   "execution_count": 159,
   "source": [
    "class Tree(object): # binary tree\r\n",
    "    def __init__(self,left,right):\r\n",
    "        self.left=left\r\n",
    "        self.right = right\r\n",
    "T = Tree(\r\n",
    "        Tree('a',\r\n",
    "            Tree(\r\n",
    "                Tree('b','c'),\r\n",
    "                'd')),\r\n",
    "        Tree(\r\n",
    "            Tree(\r\n",
    "                Tree('e','f'),\r\n",
    "                Tree('g','h')),\r\n",
    "            Tree('i',\r\n",
    "                Tree('j','k'))))"
   ],
   "outputs": [],
   "metadata": {}
  },
  {
   "cell_type": "code",
   "execution_count": 180,
   "source": [
    "def CountNode(T):\r\n",
    "    if type(T) is str:\r\n",
    "        return 0\r\n",
    "    if type(T.left) is str:\r\n",
    "        lnode = 0\r\n",
    "    elif type(T.left) is Tree:\r\n",
    "        lnode = 1 + max(CountNode(T.left)[0],CountNode(T.left)[1])\r\n",
    "    if type(T.right) is str:\r\n",
    "        rnode = 0\r\n",
    "    elif type(T.right) is Tree:\r\n",
    "        rnode = 1 + max(CountNode(T.right)[0],CountNode(T.right)[1])\r\n",
    "    return [lnode,rnode]\r\n",
    "def BalFac(T):\r\n",
    "    return CountNode(T)[0] - CountNode(T)[1]\r\n",
    "BalFac(T.left.right.left)"
   ],
   "outputs": [
    {
     "output_type": "execute_result",
     "data": {
      "text/plain": [
       "0"
      ]
     },
     "metadata": {},
     "execution_count": 180
    }
   ],
   "metadata": {}
  },
  {
   "cell_type": "markdown",
   "source": [
    "21. An interval can be represented, for example, as a pair of numbers, such as $(3.2, 4.9)$. Let’s say you have a list of such intervals (where no intervals are identical), and you want know which intervals that fall inside other intervals. An interval $(u,v)$ falls inside $(x,y)$ when $x \\le u$ and $v \\le y$. How would you do this efficiently?  \r\n"
   ],
   "metadata": {}
  },
  {
   "cell_type": "code",
   "execution_count": 134,
   "source": [
    "s = [randrange(0,999) for i in range(10)]\r\n",
    "intervals = [(randrange(1,a),randrange(a,1000)) for a in s]"
   ],
   "outputs": [],
   "metadata": {}
  },
  {
   "cell_type": "code",
   "execution_count": 135,
   "source": [
    "def FindIn(l,seq=None,s = False):\r\n",
    "    if not s:\r\n",
    "        l.sort(key = lambda x:x[0])\r\n",
    "        s = True\r\n",
    "    if len(l) == 1:\r\n",
    "        return ['F']\r\n",
    "    seq = FindIn(l[:-1],seq,s)\r\n",
    "    MaxRight = l[0][1]\r\n",
    "    for i in l[:-1]:\r\n",
    "        if i[1] > MaxRight:\r\n",
    "            MaxRight = i[1]\r\n",
    "    if l[-1][1] < MaxRight:\r\n",
    "        seq.append('T')\r\n",
    "    else:\r\n",
    "        seq.append('F')\r\n",
    "    return seq\r\n",
    "FindIn(intervals)"
   ],
   "outputs": [
    {
     "output_type": "execute_result",
     "data": {
      "text/plain": [
       "['F', 'F', 'F', 'T', 'T', 'T', 'T', 'F', 'T', 'F']"
      ]
     },
     "metadata": {},
     "execution_count": 135
    }
   ],
   "metadata": {}
  },
  {
   "cell_type": "markdown",
   "source": [
    "22. How would you improve the relaxation-based algorithm for the airplane + train problem in the section “Relaxation and Gradual Improvement” so that you are guaranteed an answer in polynomial time?  "
   ],
   "metadata": {}
  },
  {
   "cell_type": "code",
   "execution_count": 125,
   "source": [
    "A = [randrange(100) for i in range(5)]\r\n",
    "B = [[randrange(100) for i in range(5)] for j in range(5)]\r\n",
    "A,B"
   ],
   "outputs": [
    {
     "output_type": "execute_result",
     "data": {
      "text/plain": [
       "([35, 64, 99, 15, 66],\n",
       " [[15, 39, 39, 11, 18],\n",
       "  [25, 62, 53, 13, 14],\n",
       "  [67, 99, 1, 94, 11],\n",
       "  [98, 88, 64, 19, 69],\n",
       "  [5, 95, 49, 28, 70]])"
      ]
     },
     "metadata": {},
     "execution_count": 125
    }
   ],
   "metadata": {}
  },
  {
   "cell_type": "code",
   "execution_count": 126,
   "source": [
    "def FindT(A,B):\r\n",
    "    t = []\r\n",
    "    for i in range(len(A)):\r\n",
    "        for j in range(len(B)):\r\n",
    "            t1 = A[i] + B[i][j]\r\n",
    "            t.append(t1)\r\n",
    "    return min(t)\r\n",
    "FindT(A,B)"
   ],
   "outputs": [
    {
     "output_type": "execute_result",
     "data": {
      "text/plain": [
       "34"
      ]
     },
     "metadata": {},
     "execution_count": 126
    }
   ],
   "metadata": {}
  },
  {
   "cell_type": "markdown",
   "source": [
    "23. Consider three problems, foo, bar, and baz. You know that bar is hard and that baz is easy. How would you go about showing that foo was hard? How would you show that it was easy?   \r\n",
    "    reduce bar to foo  \r\n",
    "    reduce foo to baz"
   ],
   "metadata": {}
  }
 ],
 "metadata": {
  "orig_nbformat": 4,
  "language_info": {
   "name": "python",
   "version": "3.8.1",
   "mimetype": "text/x-python",
   "codemirror_mode": {
    "name": "ipython",
    "version": 3
   },
   "pygments_lexer": "ipython3",
   "nbconvert_exporter": "python",
   "file_extension": ".py"
  },
  "kernelspec": {
   "name": "python3",
   "display_name": "Python 3.8.1 64-bit"
  },
  "interpreter": {
   "hash": "b67a93151de190f6cc8f9707f54bafc2958bf8bfaa7d847c8c4b5621a84335b3"
  }
 },
 "nbformat": 4,
 "nbformat_minor": 2
}