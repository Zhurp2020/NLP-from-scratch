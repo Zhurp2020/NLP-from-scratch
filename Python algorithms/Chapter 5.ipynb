{
 "cells": [
  {
   "cell_type": "markdown",
   "metadata": {},
   "source": [
    "# Python Algorithms\n",
    "## Chapter 5 Traversal: The Skeleton Key of Algorithmics\n",
    "+ traversal: discovering, and later visiting, all the nodes in a graph.   \n",
    "\n",
    "Finding the connected components of a graph. A graph is connected if there is a path from each node to each of the others and if the connected components are the maximal subgraphs that are connected.   \n",
    "One way of finding a connected component would be to start \n",
    "at some place in the graph and gradually grow a larger connected subgraph until we can’t get any further. Let’s look at the following related problem. Show that you can order the nodes in a connected graph, $v_1, v_2, . .., v_n$, so that for any $i = 1.. .n$, the subgraph over $v_1, . .. , v_i$ is connected. If we can show this and we can figure out how to do the ordering, we can go through all the nodes in a connected component and know when they’re all used up.  \n",
    "we need to get from $i–1$ to $i$. We know that the subgraph over the $i–1$ first nodes is connected. Because there are paths between any pair of nodes, consider a node $u$ in the first $i–1$ nodes and a node $v$ in the remainder. On the path from $u$ to $v$, consider the last node that is in the component we’ve built so far, as well as the first node outside it. Let’s call them $x$ and $y$. Clearly there must be an edge between them, \n",
    "so adding $y$ to the nodes of our growing component keeps it connected,\n"
   ]
  },
  {
   "cell_type": "code",
   "execution_count": 15,
   "metadata": {},
   "outputs": [],
   "source": [
    "G = {\n",
    "    'a':set('e'),\n",
    "    'b':set('efg'),\n",
    "    'c':set('df'),\n",
    "    'd':set('cf'),\n",
    "    'e':set('abf'),\n",
    "    'f':set('bcde'),\n",
    "    'g':set('b'),\n",
    "    '1':set('23'),\n",
    "    '2':set('13'),\n",
    "    '3':set('12')\n",
    "}"
   ]
  },
  {
   "cell_type": "code",
   "execution_count": 12,
   "metadata": {},
   "outputs": [
    {
     "data": {
      "text/plain": [
       "{'d': None, 'c': 'd', 'f': 'd', 'e': 'f', 'b': 'f', 'a': 'e', 'g': 'b'}"
      ]
     },
     "execution_count": 12,
     "metadata": {},
     "output_type": "execute_result"
    }
   ],
   "source": [
    "def walk(G,start='d'):\n",
    "    visited,ToVisit = dict(), set()\n",
    "    ToVisit.add(start)\n",
    "    visited[start] = None\n",
    "    while ToVisit:\n",
    "        u = ToVisit.pop()\n",
    "        for v in G[u].difference(visited):\n",
    "            ToVisit.add(v)\n",
    "            visited[v] = u  #the parent node of this node in the traversal tree\n",
    "    return visited\n",
    "walk(G)\n"
   ]
  },
  {
   "cell_type": "code",
   "execution_count": 17,
   "metadata": {},
   "outputs": [
    {
     "data": {
      "text/plain": [
       "[{'a': None, 'e': 'a', 'f': 'e', 'b': 'e', 'c': 'f', 'd': 'f', 'g': 'b'},\n",
       " {'1': None, '2': '1', '3': '1'}]"
      ]
     },
     "execution_count": 17,
     "metadata": {},
     "output_type": "execute_result"
    }
   ],
   "source": [
    "def componnets(G): #Find all connected componnets\n",
    "    comp = []\n",
    "    seen = set()\n",
    "    for node in G:\n",
    "        if node in seen:\n",
    "            continue\n",
    "        C = walk(G,node)\n",
    "        seen.update(C)\n",
    "        comp.append(C)\n",
    "    return comp\n",
    "componnets(G)"
   ]
  },
  {
   "cell_type": "markdown",
   "metadata": {},
   "source": [
    "### A Walk in the Park\n",
    "#### No Cycles Allowed\n",
    "#### How to Stop Walking in Circles\n",
    "+ start walking in any direction, backtracking whenever you came to a dead end or an intersection you had already walked through"
   ]
  },
  {
   "cell_type": "code",
   "execution_count": 42,
   "metadata": {},
   "outputs": [],
   "source": [
    "G = {\n",
    "    'a':set('e'),\n",
    "    'b':set('efg'),\n",
    "    'c':set('df'),\n",
    "    'd':set('cf'),\n",
    "    'e':set('abf'),\n",
    "    'f':set('bcde'),\n",
    "    'g':set('b')\n",
    "}"
   ]
  },
  {
   "cell_type": "code",
   "execution_count": 27,
   "metadata": {},
   "outputs": [
    {
     "name": "stdout",
     "output_type": "stream",
     "text": [
      "['b']\n",
      "['b', 'e']\n",
      "['b', 'e', 'a']\n",
      "['b', 'e', 'a', 'f']\n",
      "['b', 'e', 'a', 'f', 'd']\n",
      "['b', 'e', 'a', 'f', 'd', 'c']\n",
      "['b', 'e', 'a', 'f', 'd', 'c', 'g']\n"
     ]
    }
   ],
   "source": [
    "def DFS_rec(G,start,visited = []):\n",
    "    visited.append(start)\n",
    "    print(visited)\n",
    "    for n in G[start]:\n",
    "        if n in visited:\n",
    "            continue\n",
    "        DFS_rec(G,n,visited)\n",
    "DFS_rec(G,'b')"
   ]
  },
  {
   "cell_type": "markdown",
   "metadata": {},
   "source": [
    "#### Go Deep!"
   ]
  },
  {
   "cell_type": "code",
   "execution_count": 30,
   "metadata": {},
   "outputs": [
    {
     "data": {
      "text/plain": [
       "['a', 'e', 'b', 'g', 'f', 'c', 'd']"
      ]
     },
     "execution_count": 30,
     "metadata": {},
     "output_type": "execute_result"
    }
   ],
   "source": [
    "def DFS_it(G,start):\n",
    "    visited, ToVisit = set(),[]\n",
    "    ToVisit.append(start)\n",
    "    while ToVisit:\n",
    "        u = ToVisit.pop()\n",
    "        if u in visited:\n",
    "            continue\n",
    "        visited.add(u)\n",
    "        ToVisit.extend(G[u])\n",
    "        yield u\n",
    "list(DFS_it(G,'a'))"
   ]
  },
  {
   "cell_type": "markdown",
   "metadata": {},
   "source": [
    "#### Depth-First Timestamps and Topological Sorting"
   ]
  },
  {
   "cell_type": "code",
   "execution_count": 39,
   "metadata": {},
   "outputs": [
    {
     "name": "stdout",
     "output_type": "stream",
     "text": [
      "d:{}\n",
      "d:{'a': 0}\n",
      "d:{'a': 0, 'e': 1}\n",
      "d:{'a': 0, 'e': 1, 'f': 2}\n",
      "d:{'a': 0, 'e': 1, 'f': 2, 'd': 3}\n",
      "f:{'c': 5}\n",
      "f:{'c': 5, 'd': 6}\n",
      "d:{'a': 0, 'e': 1, 'f': 2, 'd': 3, 'c': 4}\n",
      "d:{'a': 0, 'e': 1, 'f': 2, 'd': 3, 'c': 4, 'b': 7}\n",
      "f:{'c': 5, 'd': 6, 'g': 9}\n",
      "f:{'c': 5, 'd': 6, 'g': 9, 'b': 10}\n",
      "f:{'c': 5, 'd': 6, 'g': 9, 'b': 10, 'f': 11}\n",
      "f:{'c': 5, 'd': 6, 'g': 9, 'b': 10, 'f': 11, 'e': 12}\n",
      "f:{'c': 5, 'd': 6, 'g': 9, 'b': 10, 'f': 11, 'e': 12, 'a': 13}\n"
     ]
    },
    {
     "data": {
      "text/plain": [
       "14"
      ]
     },
     "execution_count": 39,
     "metadata": {},
     "output_type": "execute_result"
    }
   ],
   "source": [
    "def DFS_time(G,d=dict(),f=dict(),start='a',visited = [],t=0): #DFS with timestamp\n",
    "    visited.append(start) \n",
    "    print('d:{}'.format(d))\n",
    "    d[start] = t #discovery time\n",
    "    t += 1\n",
    "    for n in G[start]:\n",
    "        if n in visited:\n",
    "            continue\n",
    "        t = DFS_time(G,d,f,start=n,visited=visited,t=t)\n",
    "    f[start] = t # finish time\n",
    "    t += 1\n",
    "    print('f:{}'.format(f))\n",
    "    return t\n",
    "DFS_time(G)"
   ]
  },
  {
   "cell_type": "code",
   "execution_count": 61,
   "metadata": {},
   "outputs": [
    {
     "name": "stdout",
     "output_type": "stream",
     "text": [
      "['a', 'e', 'f', 'b', 'g', 'd', 'c']\n"
     ]
    }
   ],
   "source": [
    "def DFS_topsort(G): \n",
    "# This can be used to sort the nodes of a general graph by decreasing finish times,\n",
    "# when looking for strongly connected components\n",
    "    visited,res=set(),[]\n",
    "    def rec(u):\n",
    "        if u in visited:\n",
    "            return\n",
    "        visited.add(u)\n",
    "        for v in G[u]:\n",
    "            rec(v)\n",
    "        res.append(u) #finished exploring its children, add to res\n",
    "    for n in G:\n",
    "        rec(n)\n",
    "    res.reverse()\n",
    "    return res\n",
    "print(DFS_topsort(G))"
   ]
  },
  {
   "cell_type": "markdown",
   "metadata": {},
   "source": [
    "#### Infinite Mazes and Shortest (Unweighted) Paths\n",
    "+ If we’re looking for the shortest paths (disregarding edge weights, for now) from our start node to all the others, DFS will, most likely, give us the wrong answer\n",
    "+ iterative deepening depth-first search, or IDDFS, and it simply consists of running a depth-constrained DFS with an iteratively incremented depth limit\n",
    "+ There is really only one situation where IDDFS would be preferable over BFS: when searching a huge tree (or some state space “shaped” like a tree). Because there are no cycles, we don’t need to remember which nodes we’ve visited, which means that IDDFS needs only store the path back to the starting node. BFS, on the other hand, must keep the entire fringe in memory (as its queue), and as long as there is some branching, this fringe will grow exponentially with the distance to the root. In other words, in these cases IDDFS can save a significant amount of memory, with little or no asymptotic slowdown."
   ]
  },
  {
   "cell_type": "code",
   "execution_count": 53,
   "metadata": {},
   "outputs": [
    {
     "data": {
      "text/plain": [
       "['a', 'e', 'f', 'b']"
      ]
     },
     "execution_count": 53,
     "metadata": {},
     "output_type": "execute_result"
    }
   ],
   "source": [
    "def idDFS(G,start):\n",
    "    yielded = set() #visited\n",
    "    def rec(G,s,depth,visited = set()):\n",
    "        if s not in yielded:\n",
    "            yield s\n",
    "            yielded.add(s)\n",
    "        if depth == 0: \n",
    "            return  # max depth reached\n",
    "        visited.add(s)\n",
    "        for u in G[s]:\n",
    "            if u in visited:\n",
    "                continue\n",
    "            for v in rec(G,u,depth=depth-1,visited=visited):\n",
    "                yield v\n",
    "    n = len(G)\n",
    "    for d in range(n):\n",
    "        if len(yielded) == n: #all nodes visited\n",
    "            break\n",
    "        for u in rec(G,start,d):\n",
    "            yield u\n",
    "list(idDFS(G,'a'))"
   ]
  },
  {
   "cell_type": "code",
   "execution_count": 58,
   "metadata": {},
   "outputs": [
    {
     "data": {
      "text/plain": [
       "{'b': None, 'e': 'b', 'f': 'b', 'g': 'b', 'a': 'e', 'd': 'f', 'c': 'f'}"
      ]
     },
     "execution_count": 58,
     "metadata": {},
     "output_type": "execute_result"
    }
   ],
   "source": [
    "from collections import deque\n",
    "def bfs(G,start):\n",
    "    visited,ToVisit = {start:None},deque([start])\n",
    "    while ToVisit:\n",
    "        u = ToVisit.popleft()\n",
    "        for v in G[u]:\n",
    "            if v in visited:\n",
    "                continue\n",
    "            visited[v] = u\n",
    "            ToVisit.append(v)\n",
    "    return visited\n",
    "bfs(G,'b')"
   ]
  },
  {
   "cell_type": "markdown",
   "metadata": {},
   "source": [
    "### Strongly Connected Component\n",
    "+ A connected component is a maximal subgraph where all nodes can reach each other if you ignore edge directions (or if the graph is undirected). To get strongly connected components, though, you need to follow the edge directions; so, SCCs are the maximal subgraphs where there is a directed path from any node to any other.\n",
    "+ In fact, in general, if there is an edge from any strong component X to another strong component Y, the last finish time in X will be later than the latest in Y."
   ]
  },
  {
   "cell_type": "code",
   "execution_count": 64,
   "metadata": {},
   "outputs": [],
   "source": [
    "G = {\n",
    "    'a':set('bc'),\n",
    "    'b':set('dei'),\n",
    "    'c':set('d'),\n",
    "    'd':set('ah'),\n",
    "    'e':set('f'),\n",
    "    'f':set('g'),\n",
    "    'g':set('eh'),\n",
    "    'h':set('i'),\n",
    "    'i':set('h'),\n",
    "}"
   ]
  },
  {
   "cell_type": "code",
   "execution_count": 67,
   "metadata": {},
   "outputs": [],
   "source": [
    "def walk(G,start='d',S = set()):\n",
    "    visited,ToVisit = dict(), set()\n",
    "    ToVisit.add(start)\n",
    "    visited[start] = None\n",
    "    while ToVisit:\n",
    "        u = ToVisit.pop()\n",
    "        for v in G[u].difference(visited,S):\n",
    "            ToVisit.add(v)\n",
    "            visited[v] = u  #the parent node of this node in the traversal tree\n",
    "    return visited"
   ]
  },
  {
   "cell_type": "code",
   "execution_count": 65,
   "metadata": {},
   "outputs": [
    {
     "data": {
      "text/plain": [
       "['a', 'b', 'e', 'f', 'g', 'c', 'd', 'h', 'i']"
      ]
     },
     "execution_count": 65,
     "metadata": {},
     "output_type": "execute_result"
    }
   ],
   "source": [
    "DFS_topsort(G)"
   ]
  },
  {
   "cell_type": "code",
   "execution_count": 68,
   "metadata": {},
   "outputs": [
    {
     "data": {
      "text/plain": [
       "[{'a': None, 'd': 'a', 'c': 'd', 'b': 'd'},\n",
       " {'e': None, 'g': 'e', 'f': 'g'},\n",
       " {'h': None, 'i': 'h'}]"
      ]
     },
     "execution_count": 68,
     "metadata": {},
     "output_type": "execute_result"
    }
   ],
   "source": [
    "def tr(G): #reverse all edges of g\n",
    "    GT = {}\n",
    "    for u in G:\n",
    "        GT[u] = set()\n",
    "    for u in G:\n",
    "        for v in G[u]:\n",
    "            GT[v].add(u)\n",
    "    return GT\n",
    "def scc(G):\n",
    "    GT = tr(G)\n",
    "    scc,seen = [],set()\n",
    "    for u in DFS_topsort(G):\n",
    "        if u in seen:\n",
    "            continue\n",
    "        C = walk(GT,start=u,S=seen)\n",
    "        seen.update(C)\n",
    "        scc.append(C)\n",
    "    return scc\n",
    "scc(G)"
   ]
  },
  {
   "cell_type": "markdown",
   "metadata": {},
   "source": [
    "### Exercises\n",
    "1. In the components function in Listing 5-2, the set of seen nodes is updated with an entire component at a time. Another option would be to add the nodes one by one inside `walk`. How would that be different (or, perhaps, not so different)   \n",
    "   It might be slower\n",
    "2. If you’re faced with a graph where each node has an even degree, how would you go about finding \n",
    "an Euler tour?"
   ]
  },
  {
   "cell_type": "code",
   "execution_count": 8,
   "metadata": {},
   "outputs": [],
   "source": [
    "G = {\n",
    "    'a':set('bcde'),\n",
    "    'b':set('ae'),\n",
    "    'c':set('af'),\n",
    "    'd':set('ae'),\n",
    "    'e':set('abdf'),\n",
    "    'f':set('ce'),\n",
    "}"
   ]
  },
  {
   "cell_type": "code",
   "execution_count": 3,
   "metadata": {},
   "outputs": [
    {
     "name": "stdout",
     "output_type": "stream",
     "text": [
      "a-c-f-e-a-d-e-b-end\n"
     ]
    }
   ],
   "source": [
    "def isBridge(G,end):\n",
    "    return len(G[end]) == 1\n",
    "def FindEuler(G,start='a',seen = set()):\n",
    "    print('{}-'.format(start),end='')\n",
    "    seen.add(start)\n",
    "    if len(seen) == len(G):\n",
    "        print('end')\n",
    "        return \n",
    "    GoBridge = True\n",
    "    for n in G[start]:\n",
    "        if not isBridge(G,n):\n",
    "            G[n].remove(start)\n",
    "            G[start].remove(n)\n",
    "            FindEuler(G,start=n,seen=seen)\n",
    "            GoBridge = False\n",
    "            break\n",
    "    if GoBridge:\n",
    "        for n in G[start]:\n",
    "            if isBridge(G,n):\n",
    "                FindEuler(G,start=n,seen=seen)\n",
    "FindEuler(G)"
   ]
  },
  {
   "cell_type": "markdown",
   "metadata": {},
   "source": [
    "3. If every node in a directed graph has the same in-degree as out-degree, you could find a directed\n",
    "Euler tour. Why is that? How would you go about it, and how is this related to Trémaux’s algorithm?\n",
    "4. One basic operation in image processing is the so-called flood fill, where a region in an image is filled with a single color. In painting applications (such as GIMP or Adobe Photoshop), this is typically done with a paint bucket tool. How would you implement this sort of filling?   \n",
    "   Traversing the grid, with adjacent pixels as neighbours\n",
    "5. In Greek mythology, when Ariadne helped Theseus overcome the Minotaur and escape the labyrinth, she gave him a ball of fleece thread so he could find his way out again. But what if Theseus forgot to fasten the thread outside on his way in and remembered the ball only once he was thoroughly lost—what could he use it for then?\n",
    "6. In recursive DFS, backtracking occurs when you return from one of the recursive calls. But where \n",
    "has the backtracking gone in the iterative version?  \n",
    "   when the loop continues to the next one\n",
    "7. Write a nonrecursive version of DFS that can deal determine finish times"
   ]
  },
  {
   "cell_type": "code",
   "execution_count": 23,
   "metadata": {},
   "outputs": [
    {
     "name": "stdout",
     "output_type": "stream",
     "text": [
      "{'a': 0, 'e': 1, 'd': 2, 'f': 4, 'c': 5, 'b': 8}\n",
      "{'d': 3, 'c': 6, 'f': 7, 'b': 9, 'e': 10, 'a': 11}\n"
     ]
    }
   ],
   "source": [
    "def DFS_ittime(G,start='a'): #DFS with timestamp\n",
    "    visited,ToVisit = set(),[]\n",
    "    ToVisit.append(start) \n",
    "    d,f=dict(),dict()\n",
    "    finished = []\n",
    "    t=0\n",
    "    while ToVisit:\n",
    "        u = ToVisit.pop()\n",
    "        if u in finished:\n",
    "            continue\n",
    "        if u in visited:\n",
    "            finish = True\n",
    "            for n in G[u]:\n",
    "                if n not in visited:\n",
    "                    finish = False\n",
    "            if finish:\n",
    "                f[u] = t\n",
    "                t += 1\n",
    "                finished.append(u)\n",
    "            continue\n",
    "        visited.add(u)\n",
    "        d[u] = t\n",
    "        t+= 1\n",
    "        finish = True\n",
    "        ToVisit.append(u)\n",
    "        for n in G[u]:\n",
    "            if n not in visited:\n",
    "                ToVisit.append(n)\n",
    "                finish = False\n",
    "        if finish:\n",
    "            f[u] = t\n",
    "            t += 1\n",
    "            finished.append(u)\n",
    "    print(d)\n",
    "    print(f)\n",
    "DFS_ittime(G)"
   ]
  },
  {
   "cell_type": "markdown",
   "metadata": {},
   "source": [
    "8. In `dfs_topsort` (Listing 5-8), a recursive DFS is started from every node (although it terminates immediately if the node has already been visited). How can we be sure that we will get a valid topological sorting, even though the order of the start nodes is completely arbitrary?   \n",
    "   If `u` must go before `v`, we will never reach `u` if we go through `v` first, and always reach `v` if we go through `u` first \n",
    "9. Write a version of DFS where you have hooks (overridable functions) that let the user perform \n",
    "custom processing in pre- and postorder.\n",
    "10. Show that if (and only if) DFS finds no back edges, the graph being traversed is acyclic.   \n",
    "    DFS will keep going into the circle until it meets the entry point, creating a back edge\n",
    "11. What challenges would you face if you wanted to use other traversal algorithms than DFS to look \n",
    "for cycles in directed graphs? Why don’t you face these challenges in undirected graphs?  \n",
    "    It would be hard to distinguish cross edges and back edges. In undirected grapshes, it would not matter\n",
    "12. If you run DFS in an undirected graph, you won’t have any forward or cross edges. Why is that?   \n",
    "    The edge would already be traversed\n",
    "13. Write a version of BFS that finds the distances from the start node to each of the others, rather than the actual paths."
   ]
  },
  {
   "cell_type": "code",
   "execution_count": 26,
   "metadata": {},
   "outputs": [
    {
     "data": {
      "text/plain": [
       "{'b': None, 'a': 1, 'e': 1, 'c': 2, 'd': 2, 'f': 2}"
      ]
     },
     "execution_count": 26,
     "metadata": {},
     "output_type": "execute_result"
    }
   ],
   "source": [
    "from collections import deque\n",
    "def bfs_dis(G,start):\n",
    "    visited,ToVisit = {start:None},deque([start])\n",
    "    while ToVisit:\n",
    "        u = ToVisit.popleft()\n",
    "        for v in G[u]:\n",
    "            if v in visited:\n",
    "                continue\n",
    "            try:\n",
    "                visited[v] = visited[u] + 1\n",
    "            except:\n",
    "                visited[v] = 1\n",
    "            ToVisit.append(v)\n",
    "    return visited\n",
    "bfs_dis(G,'b')"
   ]
  },
  {
   "cell_type": "markdown",
   "metadata": {},
   "source": [
    "14. As mentioned in Chapter 4, a graph is called bipartite if you can partition the nodes into two sets so that no neighbors are in the same set. Another way of thinking about this is that you’re coloring each node either black or white (for example) so that no neighbors get the same color. Show how you’d find such a bipartition (or two-coloring), if one exists, for any undirected graph    \n",
    "    Traveser the graph and paint the nodes accordingly. If it can not be done, there is no solution. \n",
    "15. If you reverse all the edges of a directed graph, the strongly connected components remain the \n",
    "same. Why is that?\n",
    "16. Let $X$ and $Y$ be two strongly connected components of the same graph, $G$. Assume that there is at least one edge from $X$ to $Y$. If you run DFS on $G$ (restarting as needed, until all nodes have been visited), the latest finish time in $X$ will always be later than the latest in $Y$. Why is that?   \n",
    "    It is impossible to get back to $X$ without backtracking, so every node in $Y$ must be finished  \n",
    "17. In Kosaraju’s algorithm, we find starting nodes for the final traversal by descending finish times from an initial DFS, and we perform the traversal in the transposed graph (that is, with all edges reversed). Why couldn’t we just use ascending finish times in the original graph?"
   ]
  },
  {
   "cell_type": "code",
   "execution_count": null,
   "metadata": {},
   "outputs": [],
   "source": [
    "G = {\n",
    "    'a':set('bc'),\n",
    "    'b':set('a'),\n",
    "    'c':set('ad'),\n",
    "    'd':set('c'),\n",
    "}"
   ]
  }
 ],
 "metadata": {
  "interpreter": {
   "hash": "b67a93151de190f6cc8f9707f54bafc2958bf8bfaa7d847c8c4b5621a84335b3"
  },
  "kernelspec": {
   "display_name": "Python 3.8.1 64-bit",
   "language": "python",
   "name": "python3"
  },
  "language_info": {
   "codemirror_mode": {
    "name": "ipython",
    "version": 3
   },
   "file_extension": ".py",
   "mimetype": "text/x-python",
   "name": "python",
   "nbconvert_exporter": "python",
   "pygments_lexer": "ipython3",
   "version": "3.8.1"
  },
  "orig_nbformat": 4
 },
 "nbformat": 4,
 "nbformat_minor": 2
}
