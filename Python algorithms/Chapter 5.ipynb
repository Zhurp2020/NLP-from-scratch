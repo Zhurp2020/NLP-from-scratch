{
 "cells": [
  {
   "cell_type": "markdown",
   "metadata": {},
   "source": [
    "# Python Algorithms\n",
    "## Chapter 5 Traversal: The Skeleton Key of Algorithmics\n",
    "+ traversal: discovering, and later visiting, all the nodes in a graph.   \n",
    "\n",
    "Finding the connected components of a graph. A graph is connected if there is a path from each node to each of the others and if the connected components are the maximal subgraphs that are connected.   \n",
    "One way of finding a connected component would be to start \n",
    "at some place in the graph and gradually grow a larger connected subgraph until we can’t get any further. Let’s look at the following related problem. Show that you can order the nodes in a connected graph, $v_1, v_2, . .., v_n$, so that for any $i = 1.. .n$, the subgraph over $v_1, . .. , v_i$ is connected. If we can show this and we can figure out how to do the ordering, we can go through all the nodes in a connected component and know when they’re all used up.  \n",
    "we need to get from $i–1$ to $i$. We know that the subgraph over the $i–1$ first nodes is connected. Because there are paths between any pair of nodes, consider a node $u$ in the first $i–1$ nodes and a node $v$ in the remainder. On the path from $u$ to $v$, consider the last node that is in the component we’ve built so far, as well as the first node outside it. Let’s call them $x$ and $y$. Clearly there must be an edge between them, \n",
    "so adding $y$ to the nodes of our growing component keeps it connected,\n"
   ]
  },
  {
   "cell_type": "code",
   "execution_count": 15,
   "metadata": {},
   "outputs": [],
   "source": [
    "G = {\n",
    "    'a':set('e'),\n",
    "    'b':set('efg'),\n",
    "    'c':set('df'),\n",
    "    'd':set('cf'),\n",
    "    'e':set('abf'),\n",
    "    'f':set('bcde'),\n",
    "    'g':set('b'),\n",
    "    '1':set('23'),\n",
    "    '2':set('13'),\n",
    "    '3':set('12')\n",
    "}"
   ]
  },
  {
   "cell_type": "code",
   "execution_count": 12,
   "metadata": {},
   "outputs": [
    {
     "data": {
      "text/plain": [
       "{'d': None, 'c': 'd', 'f': 'd', 'e': 'f', 'b': 'f', 'a': 'e', 'g': 'b'}"
      ]
     },
     "execution_count": 12,
     "metadata": {},
     "output_type": "execute_result"
    }
   ],
   "source": [
    "def walk(G,start='d'):\n",
    "    visited,ToVisit = dict(), set()\n",
    "    ToVisit.add(start)\n",
    "    visited[start] = None\n",
    "    while ToVisit:\n",
    "        u = ToVisit.pop()\n",
    "        for v in G[u].difference(visited):\n",
    "            ToVisit.add(v)\n",
    "            visited[v] = u  #the parent node of this node in the traversal tree\n",
    "    return visited\n",
    "walk(G)\n"
   ]
  },
  {
   "cell_type": "code",
   "execution_count": 17,
   "metadata": {},
   "outputs": [
    {
     "data": {
      "text/plain": [
       "[{'a': None, 'e': 'a', 'f': 'e', 'b': 'e', 'c': 'f', 'd': 'f', 'g': 'b'},\n",
       " {'1': None, '2': '1', '3': '1'}]"
      ]
     },
     "execution_count": 17,
     "metadata": {},
     "output_type": "execute_result"
    }
   ],
   "source": [
    "def componnets(G): #Find all connected componnets\n",
    "    comp = []\n",
    "    seen = set()\n",
    "    for node in G:\n",
    "        if node in seen:\n",
    "            continue\n",
    "        C = walk(G,node)\n",
    "        seen.update(C)\n",
    "        comp.append(C)\n",
    "    return comp\n",
    "componnets(G)"
   ]
  },
  {
   "cell_type": "markdown",
   "metadata": {},
   "source": [
    "### A Walk in the Park\n",
    "#### No Cycles Allowed\n",
    "#### How to Stop Walking in Circles\n",
    "+ start walking in any direction, backtracking whenever you came to a dead end or an intersection you had already walked through"
   ]
  },
  {
   "cell_type": "code",
   "execution_count": 42,
   "metadata": {},
   "outputs": [],
   "source": [
    "G = {\n",
    "    'a':set('e'),\n",
    "    'b':set('efg'),\n",
    "    'c':set('df'),\n",
    "    'd':set('cf'),\n",
    "    'e':set('abf'),\n",
    "    'f':set('bcde'),\n",
    "    'g':set('b')\n",
    "}"
   ]
  },
  {
   "cell_type": "code",
   "execution_count": 27,
   "metadata": {},
   "outputs": [
    {
     "name": "stdout",
     "output_type": "stream",
     "text": [
      "['b']\n",
      "['b', 'e']\n",
      "['b', 'e', 'a']\n",
      "['b', 'e', 'a', 'f']\n",
      "['b', 'e', 'a', 'f', 'd']\n",
      "['b', 'e', 'a', 'f', 'd', 'c']\n",
      "['b', 'e', 'a', 'f', 'd', 'c', 'g']\n"
     ]
    }
   ],
   "source": [
    "def DFS_rec(G,start,visited = []):\n",
    "    visited.append(start)\n",
    "    print(visited)\n",
    "    for n in G[start]:\n",
    "        if n in visited:\n",
    "            continue\n",
    "        DFS_rec(G,n,visited)\n",
    "DFS_rec(G,'b')"
   ]
  },
  {
   "cell_type": "markdown",
   "metadata": {},
   "source": [
    "#### Go Deep!"
   ]
  },
  {
   "cell_type": "code",
   "execution_count": 30,
   "metadata": {},
   "outputs": [
    {
     "data": {
      "text/plain": [
       "['a', 'e', 'b', 'g', 'f', 'c', 'd']"
      ]
     },
     "execution_count": 30,
     "metadata": {},
     "output_type": "execute_result"
    }
   ],
   "source": [
    "def DFS_it(G,start):\n",
    "    visited, ToVisit = set(),[]\n",
    "    ToVisit.append(start)\n",
    "    while ToVisit:\n",
    "        u = ToVisit.pop()\n",
    "        if u in visited:\n",
    "            continue\n",
    "        visited.add(u)\n",
    "        ToVisit.extend(G[u])\n",
    "        yield u\n",
    "list(DFS_it(G,'a'))"
   ]
  },
  {
   "cell_type": "markdown",
   "metadata": {},
   "source": [
    "#### Depth-First Timestamps and Topological Sorting"
   ]
  },
  {
   "cell_type": "code",
   "execution_count": 39,
   "metadata": {},
   "outputs": [
    {
     "name": "stdout",
     "output_type": "stream",
     "text": [
      "d:{}\n",
      "d:{'a': 0}\n",
      "d:{'a': 0, 'e': 1}\n",
      "d:{'a': 0, 'e': 1, 'f': 2}\n",
      "d:{'a': 0, 'e': 1, 'f': 2, 'd': 3}\n",
      "f:{'c': 5}\n",
      "f:{'c': 5, 'd': 6}\n",
      "d:{'a': 0, 'e': 1, 'f': 2, 'd': 3, 'c': 4}\n",
      "d:{'a': 0, 'e': 1, 'f': 2, 'd': 3, 'c': 4, 'b': 7}\n",
      "f:{'c': 5, 'd': 6, 'g': 9}\n",
      "f:{'c': 5, 'd': 6, 'g': 9, 'b': 10}\n",
      "f:{'c': 5, 'd': 6, 'g': 9, 'b': 10, 'f': 11}\n",
      "f:{'c': 5, 'd': 6, 'g': 9, 'b': 10, 'f': 11, 'e': 12}\n",
      "f:{'c': 5, 'd': 6, 'g': 9, 'b': 10, 'f': 11, 'e': 12, 'a': 13}\n"
     ]
    },
    {
     "data": {
      "text/plain": [
       "14"
      ]
     },
     "execution_count": 39,
     "metadata": {},
     "output_type": "execute_result"
    }
   ],
   "source": [
    "def DFS_time(G,d=dict(),f=dict(),start='a',visited = [],t=0): #DFS with timestamp\n",
    "    visited.append(start) \n",
    "    print('d:{}'.format(d))\n",
    "    d[start] = t #discovery time\n",
    "    t += 1\n",
    "    for n in G[start]:\n",
    "        if n in visited:\n",
    "            continue\n",
    "        t = DFS_time(G,d,f,start=n,visited=visited,t=t)\n",
    "    f[start] = t # finish time\n",
    "    t += 1\n",
    "    print('f:{}'.format(f))\n",
    "    return t\n",
    "DFS_time(G)"
   ]
  },
  {
   "cell_type": "code",
   "execution_count": 61,
   "metadata": {},
   "outputs": [
    {
     "name": "stdout",
     "output_type": "stream",
     "text": [
      "['a', 'e', 'f', 'b', 'g', 'd', 'c']\n"
     ]
    }
   ],
   "source": [
    "def DFS_topsort(G): \n",
    "# This can be used to sort the nodes of a general graph by decreasing finish times,\n",
    "# when looking for strongly connected components\n",
    "    visited,res=set(),[]\n",
    "    def rec(u):\n",
    "        if u in visited:\n",
    "            return\n",
    "        visited.add(u)\n",
    "        for v in G[u]:\n",
    "            rec(v)\n",
    "        res.append(u) #finished exploring its children, add to res\n",
    "    for n in G:\n",
    "        rec(n)\n",
    "    res.reverse()\n",
    "    return res\n",
    "print(DFS_topsort(G))"
   ]
  },
  {
   "cell_type": "markdown",
   "metadata": {},
   "source": [
    "#### Infinite Mazes and Shortest (Unweighted) Paths\n",
    "+ If we’re looking for the shortest paths (disregarding edge weights, for now) from our start node to all the others, DFS will, most likely, give us the wrong answer\n",
    "+ iterative deepening depth-first search, or IDDFS, and it simply consists of running a depth-constrained DFS with an iteratively incremented depth limit\n",
    "+ There is really only one situation where IDDFS would be preferable over BFS: when searching a huge tree (or some state space “shaped” like a tree). Because there are no cycles, we don’t need to remember which nodes we’ve visited, which means that IDDFS needs only store the path back to the starting node. BFS, on the other hand, must keep the entire fringe in memory (as its queue), and as long as there is some branching, this fringe will grow exponentially with the distance to the root. In other words, in these cases IDDFS can save a significant amount of memory, with little or no asymptotic slowdown."
   ]
  },
  {
   "cell_type": "code",
   "execution_count": 53,
   "metadata": {},
   "outputs": [
    {
     "data": {
      "text/plain": [
       "['a', 'e', 'f', 'b']"
      ]
     },
     "execution_count": 53,
     "metadata": {},
     "output_type": "execute_result"
    }
   ],
   "source": [
    "def idDFS(G,start):\n",
    "    yielded = set() #visited\n",
    "    def rec(G,s,depth,visited = set()):\n",
    "        if s not in yielded:\n",
    "            yield s\n",
    "            yielded.add(s)\n",
    "        if depth == 0: \n",
    "            return  # max depth reached\n",
    "        visited.add(s)\n",
    "        for u in G[s]:\n",
    "            if u in visited:\n",
    "                continue\n",
    "            for v in rec(G,u,depth=depth-1,visited=visited):\n",
    "                yield v\n",
    "    n = len(G)\n",
    "    for d in range(n):\n",
    "        if len(yielded) == n: #all nodes visited\n",
    "            break\n",
    "        for u in rec(G,start,d):\n",
    "            yield u\n",
    "list(idDFS(G,'a'))"
   ]
  },
  {
   "cell_type": "code",
   "execution_count": 58,
   "metadata": {},
   "outputs": [
    {
     "data": {
      "text/plain": [
       "{'b': None, 'e': 'b', 'f': 'b', 'g': 'b', 'a': 'e', 'd': 'f', 'c': 'f'}"
      ]
     },
     "execution_count": 58,
     "metadata": {},
     "output_type": "execute_result"
    }
   ],
   "source": [
    "from collections import deque\n",
    "def bfs(G,start):\n",
    "    visited,ToVisit = {start:None},deque([start])\n",
    "    while ToVisit:\n",
    "        u = ToVisit.popleft()\n",
    "        for v in G[u]:\n",
    "            if v in visited:\n",
    "                continue\n",
    "            visited[v] = u\n",
    "            ToVisit.append(v)\n",
    "    return visited\n",
    "bfs(G,'b')"
   ]
  },
  {
   "cell_type": "markdown",
   "metadata": {},
   "source": [
    "### Strongly Connected Component\n",
    "+ A connected component is a maximal subgraph where all nodes can reach each other if you ignore edge directions (or if the graph is undirected). To get strongly connected components, though, you need to follow the edge directions; so, SCCs are the maximal subgraphs where there is a directed path from any node to any other.\n",
    "+ In fact, in general, if there is an edge from any strong component X to another strong component Y, the last finish time in X will be later than the latest in Y."
   ]
  },
  {
   "cell_type": "code",
   "execution_count": 64,
   "metadata": {},
   "outputs": [],
   "source": [
    "G = {\n",
    "    'a':set('bc'),\n",
    "    'b':set('dei'),\n",
    "    'c':set('d'),\n",
    "    'd':set('ah'),\n",
    "    'e':set('f'),\n",
    "    'f':set('g'),\n",
    "    'g':set('eh'),\n",
    "    'h':set('i'),\n",
    "    'i':set('h'),\n",
    "}"
   ]
  },
  {
   "cell_type": "code",
   "execution_count": 67,
   "metadata": {},
   "outputs": [],
   "source": [
    "def walk(G,start='d',S = set()):\n",
    "    visited,ToVisit = dict(), set()\n",
    "    ToVisit.add(start)\n",
    "    visited[start] = None\n",
    "    while ToVisit:\n",
    "        u = ToVisit.pop()\n",
    "        for v in G[u].difference(visited,S):\n",
    "            ToVisit.add(v)\n",
    "            visited[v] = u  #the parent node of this node in the traversal tree\n",
    "    return visited"
   ]
  },
  {
   "cell_type": "code",
   "execution_count": 65,
   "metadata": {},
   "outputs": [
    {
     "data": {
      "text/plain": [
       "['a', 'b', 'e', 'f', 'g', 'c', 'd', 'h', 'i']"
      ]
     },
     "execution_count": 65,
     "metadata": {},
     "output_type": "execute_result"
    }
   ],
   "source": [
    "DFS_topsort(G)"
   ]
  },
  {
   "cell_type": "code",
   "execution_count": 68,
   "metadata": {},
   "outputs": [
    {
     "data": {
      "text/plain": [
       "[{'a': None, 'd': 'a', 'c': 'd', 'b': 'd'},\n",
       " {'e': None, 'g': 'e', 'f': 'g'},\n",
       " {'h': None, 'i': 'h'}]"
      ]
     },
     "execution_count": 68,
     "metadata": {},
     "output_type": "execute_result"
    }
   ],
   "source": [
    "def tr(G): #reverse all edges of g\n",
    "    GT = {}\n",
    "    for u in G:\n",
    "        GT[u] = set()\n",
    "    for u in G:\n",
    "        for v in G[u]:\n",
    "            GT[v].add(u)\n",
    "    return GT\n",
    "def scc(G):\n",
    "    GT = tr(G)\n",
    "    scc,seen = [],set()\n",
    "    for u in DFS_topsort(G):\n",
    "        if u in seen:\n",
    "            continue\n",
    "        C = walk(GT,start=u,S=seen)\n",
    "        seen.update(C)\n",
    "        scc.append(C)\n",
    "    return scc\n",
    "scc(G)"
   ]
  }
 ],
 "metadata": {
  "interpreter": {
   "hash": "b67a93151de190f6cc8f9707f54bafc2958bf8bfaa7d847c8c4b5621a84335b3"
  },
  "kernelspec": {
   "display_name": "Python 3.8.1 64-bit",
   "language": "python",
   "name": "python3"
  },
  "language_info": {
   "codemirror_mode": {
    "name": "ipython",
    "version": 3
   },
   "file_extension": ".py",
   "mimetype": "text/x-python",
   "name": "python",
   "nbconvert_exporter": "python",
   "pygments_lexer": "ipython3",
   "version": "3.8.1"
  },
  "orig_nbformat": 4
 },
 "nbformat": 4,
 "nbformat_minor": 2
}
